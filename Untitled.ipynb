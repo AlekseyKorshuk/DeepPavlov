{
 "cells": [
  {
   "cell_type": "code",
   "execution_count": 20,
   "metadata": {},
   "outputs": [],
   "source": [
    "from deeppavlov.core.common.chainer import Chainer\n",
    "\n",
    "class Component():\n",
    "    def __init__(self, component, inp, out):\n",
    "        self.component = component\n",
    "        self.inp = inp\n",
    "        self.out = out\n",
    "\n",
    "\n",
    "class Model():\n",
    "    def __init__(self, inp, out, chainer):\n",
    "        self.model = Chainer(inp, out, None)\n",
    "        for component in chainer:\n",
    "            self.model.append(component.component, component.inp, component.out, None, False)\n",
    "    def __call__(self, *args, **kwargs):\n",
    "        return self.model(*args, **kwargs)\n",
    "\n"
   ]
  },
  {
   "cell_type": "code",
   "execution_count": 21,
   "metadata": {},
   "outputs": [
    {
     "name": "stderr",
     "output_type": "stream",
     "text": [
      "2021-05-18 18:00:04.834 INFO in 'deeppavlov.core.data.simple_vocab'['simple_vocab'] at line 115: [loading vocabulary from /data/dp_components/models/ner_rus_bert/tag.dict]\n",
      "2021-05-18 18:00:18.84 INFO in 'deeppavlov.core.models.tf_model'['tf_model'] at line 51: [loading model from /data/dp_components/models/ner_rus_bert/model]\n"
     ]
    },
    {
     "name": "stdout",
     "output_type": "stream",
     "text": [
      "INFO:tensorflow:Restoring parameters from /data/dp_components/models/ner_rus_bert/model\n"
     ]
    },
    {
     "data": {
      "text/plain": [
       "[[['Москва', '-', 'столица', 'России']], [['B-LOC', 'O', 'O', 'B-LOC']]]"
      ]
     },
     "execution_count": 21,
     "metadata": {},
     "output_type": "execute_result"
    }
   ],
   "source": [
    "from deeppavlov.models.preprocessors.bert_preprocessor import BertNerPreprocessor\n",
    "from deeppavlov.core.data.simple_vocab import SimpleVocabulary\n",
    "from deeppavlov.models.bert.bert_sequence_tagger import BertSequenceTagger\n",
    "\n",
    "preprocessor = BertNerPreprocessor(\n",
    "    vocab_file=\"~/.deeppavlov/downloads/bert_models/rubert_cased_L-12_H-768_A-12_v1/vocab.txt\",\n",
    "    do_lower_case=False,\n",
    "    max_seq_length=512,\n",
    "    max_subword_length=15,\n",
    "    token_masking_prob=0.0\n",
    ")\n",
    "\n",
    "tag_vocab = SimpleVocabulary(\n",
    "    unk_token=[\"O\"],\n",
    "    pad_with_zeros=True,\n",
    "    save_path=\"~/.deeppavlov/models/ner_rus_bert/tag.dict\",\n",
    "    load_path=\"~/.deeppavlov/models/ner_rus_bert/tag.dict\",\n",
    "    fit_on=[\"y\"]\n",
    ")\n",
    "\n",
    "seq_tagger = BertSequenceTagger(\n",
    "    n_tags=tag_vocab.len,\n",
    "    keep_prob=0.1,\n",
    "    bert_config_file=\"~/.deeppavlov/downloads/bert_models/rubert_cased_L-12_H-768_A-12_v1/bert_config.json\",\n",
    "    pretrained_bert=\"~/.deeppavlov/downloads/bert_models/rubert_cased_L-12_H-768_A-12_v1/bert_model.ckpt\",\n",
    "    attention_probs_keep_prob=0.5,\n",
    "    use_crf=True,\n",
    "    ema_decay=0.9,\n",
    "    return_probas=False,\n",
    "    encoder_layer_ids=[-1],\n",
    "    optimizer=\"tf.train:AdamOptimizer\",\n",
    "    learning_rate=1e-3,\n",
    "    bert_learning_rate=2e-5,\n",
    "    min_learning_rate=1e-7,\n",
    "    learning_rate_drop_patience=30,\n",
    "    learning_rate_drop_div=1.5,\n",
    "    load_before_drop=True,\n",
    "    clip_norm=None,\n",
    "    save_path=\"~/.deeppavlov/models/ner_rus_bert/model\",\n",
    "    load_path=\"~/.deeppavlov/models/ner_rus_bert/model\",\n",
    ")\n",
    "\n",
    "\n",
    "model = Model(\n",
    "    inp=[\"x\"],\n",
    "    out=[\"x_tokens\", \"y_pred\"],\n",
    "    chainer=[\n",
    "        Component(preprocessor, inp=[\"x\"], out=[\"x_tokens\", \"x_subword_tokens\", \"x_subword_tok_ids\",\n",
    "                                                \"startofword_markers\", \"attention_mask\"]),\n",
    "        Component(tag_vocab, inp=[\"y\"], out=[\"y_ind\"]),\n",
    "        Component(seq_tagger, inp=[\"x_subword_tok_ids\", \"attention_mask\", \"startofword_markers\"],\n",
    "                  out=[\"y_pred_ind\"]),\n",
    "        Component(tag_vocab, inp=[\"y_pred_ind\"], out=[\"y_pred\"])\n",
    "    ]\n",
    ")\n",
    "\n",
    "model(['Москва - столица России'])"
   ]
  }
 ],
 "metadata": {
  "kernelspec": {
   "display_name": "Python 3",
   "language": "python",
   "name": "python3"
  },
  "language_info": {
   "codemirror_mode": {
    "name": "ipython",
    "version": 3
   },
   "file_extension": ".py",
   "mimetype": "text/x-python",
   "name": "python",
   "nbconvert_exporter": "python",
   "pygments_lexer": "ipython3",
   "version": "3.6.9"
  }
 },
 "nbformat": 4,
 "nbformat_minor": 4
}
