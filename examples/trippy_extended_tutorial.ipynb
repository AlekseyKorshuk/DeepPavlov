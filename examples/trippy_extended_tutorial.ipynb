{
  "nbformat": 4,
  "nbformat_minor": 2,
  "metadata": {
    "colab": {
      "name": "TRIPPY_RESTAURANT.ipynb",
      "provenance": [],
      "collapsed_sections": [
        "4R066YWhTgU6",
        "n597CLhqjqcd",
        "XeJMI9qaTgVt"
      ],
      "toc_visible": true
    },
    "kernelspec": {
      "display_name": "Python 3",
      "name": "python3"
    },
    "language_info": {
      "codemirror_mode": {
        "name": "ipython",
        "version": 3
      },
      "file_extension": ".py",
      "mimetype": "text/x-python",
      "name": "python",
      "nbconvert_exporter": "python",
      "pygments_lexer": "ipython3",
      "version": "3.7.4"
    },
    "accelerator": "GPU"
  },
  "cells": [
    {
      "cell_type": "markdown",
      "source": [
        "### You can also run the notebook in [COLAB](https://colab.research.google.com/github/deepmipt/DeepPavlov/blob/master/examples/trippy_extended_tutorial.ipynb)."
      ],
      "metadata": {
        "id": "mZ5jRYn-rsBU"
      }
    },
    {
      "cell_type": "markdown",
      "source": [
        "# TripPy Goal oriented bot in DeepPavlov"
      ],
      "metadata": {
        "id": "iPbAiv8KTgU4"
      }
    },
    {
      "cell_type": "markdown",
      "source": [
        "This tutorial describes how to build an **advanced** Goal-Oriented Bot (Gobot) in DeepPavlov using the [TripPy architecture](https://arxiv.org/pdf/2005.02877.pdf).\n",
        "You can also train a simple bot following the trippy_simple tutorial.\n",
        "\n",
        "\n",
        "This tutorial follows the same structure & uses the same data as the gobot_extended tutorial. We will only go over TripPy specific points here - so consult the gobot_extended notebook for general insights. Note that the only difference is the config used and fewer steps being needed for TripPy.\n",
        "\n",
        "0. [Data preparation](#scrollTo=4R066YWhTgU6)\n",
        "1. [Build Database of items](#scrollTo=l5mjRphbTgVb)\n",
        "2. [Build and Train a Bot](#scrollTo=E_InRKO6TgWt)\n",
        "3. [Interact with bot](#scrollTo=ElGD1tnJTgYC)\n",
        "4. [Integrate Google Maps API into Bot](#scrollTo=DH1KPe1fQMfE)\n",
        "5. [Interact with bot on Telegram](#scrollTo=YdMfO4o0QnK2)"
      ],
      "metadata": {
        "id": "zL-qtlM3l51N"
      }
    },
    {
      "cell_type": "code",
      "execution_count": 1,
      "source": [
        "!git clone -b rulebased_gobot_trippy https://github.com/Muennighoff/DeepPavlov\r\n",
        "%cd DeepPavlov\r\n",
        "!pip install -r requirements.txt\r\n",
        "!pip install transformers==2.9.1"
      ],
      "outputs": [
        {
          "output_type": "stream",
          "name": "stdout",
          "text": [
            "Cloning into 'DeepPavlov'...\n",
            "remote: Enumerating objects: 58560, done.\u001b[K\n",
            "remote: Counting objects: 100% (1503/1503), done.\u001b[K\n",
            "remote: Compressing objects: 100% (494/494), done.\u001b[K\n",
            "remote: Total 58560 (delta 1142), reused 1295 (delta 996), pack-reused 57057\u001b[K\n",
            "Receiving objects: 100% (58560/58560), 37.82 MiB | 23.73 MiB/s, done.\n",
            "Resolving deltas: 100% (44987/44987), done.\n",
            "/content/DeepPavlov\n",
            "Collecting aio-pika==6.4.1\n",
            "  Downloading aio_pika-6.4.1-py3-none-any.whl (40 kB)\n",
            "\u001b[K     |████████████████████████████████| 40 kB 23 kB/s \n",
            "\u001b[?25hCollecting Cython==0.29.14\n",
            "  Downloading Cython-0.29.14-cp37-cp37m-manylinux1_x86_64.whl (2.1 MB)\n",
            "\u001b[K     |████████████████████████████████| 2.1 MB 12.1 MB/s \n",
            "\u001b[?25hCollecting fastapi==0.47.1\n",
            "  Downloading fastapi-0.47.1-py3-none-any.whl (43 kB)\n",
            "\u001b[K     |████████████████████████████████| 43 kB 1.6 MB/s \n",
            "\u001b[?25hRequirement already satisfied: filelock==3.0.12 in /usr/local/lib/python3.7/dist-packages (from -r requirements.txt (line 4)) (3.0.12)\n",
            "Collecting h5py==2.10.0\n",
            "  Downloading h5py-2.10.0-cp37-cp37m-manylinux1_x86_64.whl (2.9 MB)\n",
            "\u001b[K     |████████████████████████████████| 2.9 MB 45.2 MB/s \n",
            "\u001b[?25hCollecting nltk==3.4.5\n",
            "  Downloading nltk-3.4.5.zip (1.5 MB)\n",
            "\u001b[K     |████████████████████████████████| 1.5 MB 45.9 MB/s \n",
            "\u001b[?25hCollecting numpy==1.18.0\n",
            "  Downloading numpy-1.18.0-cp37-cp37m-manylinux1_x86_64.whl (20.1 MB)\n",
            "\u001b[K     |████████████████████████████████| 20.1 MB 58.9 MB/s \n",
            "\u001b[?25hCollecting overrides==2.7.0\n",
            "  Downloading overrides-2.7.0.tar.gz (4.5 kB)\n",
            "Collecting pandas==0.25.3\n",
            "  Downloading pandas-0.25.3-cp37-cp37m-manylinux1_x86_64.whl (10.4 MB)\n",
            "\u001b[K     |████████████████████████████████| 10.4 MB 37.1 MB/s \n",
            "\u001b[?25hCollecting prometheus-client==0.7.1\n",
            "  Downloading prometheus_client-0.7.1.tar.gz (38 kB)\n",
            "Collecting pytz==2019.1\n",
            "  Downloading pytz-2019.1-py2.py3-none-any.whl (510 kB)\n",
            "\u001b[K     |████████████████████████████████| 510 kB 43.3 MB/s \n",
            "\u001b[?25hCollecting pydantic==1.3\n",
            "  Downloading pydantic-1.3-cp37-cp37m-manylinux2010_x86_64.whl (7.3 MB)\n",
            "\u001b[K     |████████████████████████████████| 7.3 MB 22.9 MB/s \n",
            "\u001b[?25hCollecting pymorphy2==0.8\n",
            "  Downloading pymorphy2-0.8-py2.py3-none-any.whl (46 kB)\n",
            "\u001b[K     |████████████████████████████████| 46 kB 4.3 MB/s \n",
            "\u001b[?25hCollecting pymorphy2-dicts-ru\n",
            "  Downloading pymorphy2_dicts_ru-2.4.417127.4579844-py2.py3-none-any.whl (8.2 MB)\n",
            "\u001b[K     |████████████████████████████████| 8.2 MB 41.8 MB/s \n",
            "\u001b[?25hCollecting pyopenssl==19.1.0\n",
            "  Downloading pyOpenSSL-19.1.0-py2.py3-none-any.whl (53 kB)\n",
            "\u001b[K     |████████████████████████████████| 53 kB 2.7 MB/s \n",
            "\u001b[?25hCollecting pytelegrambotapi==3.6.7\n",
            "  Downloading pyTelegramBotAPI-3.6.7.tar.gz (65 kB)\n",
            "\u001b[K     |████████████████████████████████| 65 kB 4.3 MB/s \n",
            "\u001b[?25hCollecting requests==2.22.0\n",
            "  Downloading requests-2.22.0-py2.py3-none-any.whl (57 kB)\n",
            "\u001b[K     |████████████████████████████████| 57 kB 5.5 MB/s \n",
            "\u001b[?25hCollecting ruamel.yaml==0.15.100\n",
            "  Downloading ruamel.yaml-0.15.100-cp37-cp37m-manylinux1_x86_64.whl (654 kB)\n",
            "\u001b[K     |████████████████████████████████| 654 kB 35.4 MB/s \n",
            "\u001b[?25hCollecting rusenttokenize==0.0.5\n",
            "  Downloading rusenttokenize-0.0.5-py3-none-any.whl (10 kB)\n",
            "Collecting scikit-learn==0.21.2\n",
            "  Downloading scikit_learn-0.21.2-cp37-cp37m-manylinux1_x86_64.whl (6.7 MB)\n",
            "\u001b[K     |████████████████████████████████| 6.7 MB 24.6 MB/s \n",
            "\u001b[?25hRequirement already satisfied: scipy==1.4.1 in /usr/local/lib/python3.7/dist-packages (from -r requirements.txt (line 21)) (1.4.1)\n",
            "Requirement already satisfied: tqdm==4.41.1 in /usr/local/lib/python3.7/dist-packages (from -r requirements.txt (line 22)) (4.41.1)\n",
            "Requirement already satisfied: click==7.1.2 in /usr/local/lib/python3.7/dist-packages (from -r requirements.txt (line 23)) (7.1.2)\n",
            "Collecting uvicorn==0.11.7\n",
            "  Downloading uvicorn-0.11.7-py3-none-any.whl (43 kB)\n",
            "\u001b[K     |████████████████████████████████| 43 kB 1.7 MB/s \n",
            "\u001b[?25hCollecting sacremoses==0.0.35\n",
            "  Downloading sacremoses-0.0.35.tar.gz (859 kB)\n",
            "\u001b[K     |████████████████████████████████| 859 kB 36.6 MB/s \n",
            "\u001b[?25hCollecting uvloop==0.14.0\n",
            "  Downloading uvloop-0.14.0-cp37-cp37m-manylinux2010_x86_64.whl (3.8 MB)\n",
            "\u001b[K     |████████████████████████████████| 3.8 MB 27.3 MB/s \n",
            "\u001b[?25hCollecting aiormq<4,>=3.2.0\n",
            "  Downloading aiormq-3.3.1-py3-none-any.whl (28 kB)\n",
            "Collecting yarl\n",
            "  Downloading yarl-1.6.3-cp37-cp37m-manylinux2014_x86_64.whl (294 kB)\n",
            "\u001b[K     |████████████████████████████████| 294 kB 47.0 MB/s \n",
            "\u001b[?25hCollecting starlette<=0.12.9,>=0.12.9\n",
            "  Downloading starlette-0.12.9.tar.gz (46 kB)\n",
            "\u001b[K     |████████████████████████████████| 46 kB 3.4 MB/s \n",
            "\u001b[?25hRequirement already satisfied: six in /usr/local/lib/python3.7/dist-packages (from h5py==2.10.0->-r requirements.txt (line 5)) (1.15.0)\n",
            "Requirement already satisfied: python-dateutil>=2.6.1 in /usr/local/lib/python3.7/dist-packages (from pandas==0.25.3->-r requirements.txt (line 9)) (2.8.1)\n",
            "Collecting dawg-python>=0.7\n",
            "  Downloading DAWG_Python-0.7.2-py2.py3-none-any.whl (11 kB)\n",
            "Collecting pymorphy2-dicts<3.0,>=2.4\n",
            "  Downloading pymorphy2_dicts-2.4.393442.3710985-py2.py3-none-any.whl (7.1 MB)\n",
            "\u001b[K     |████████████████████████████████| 7.1 MB 14.6 MB/s \n",
            "\u001b[?25hRequirement already satisfied: docopt>=0.6 in /usr/local/lib/python3.7/dist-packages (from pymorphy2==0.8->-r requirements.txt (line 13)) (0.6.2)\n",
            "Collecting cryptography>=2.8\n",
            "  Downloading cryptography-3.4.7-cp36-abi3-manylinux2014_x86_64.whl (3.2 MB)\n",
            "\u001b[K     |████████████████████████████████| 3.2 MB 25.7 MB/s \n",
            "\u001b[?25hRequirement already satisfied: chardet<3.1.0,>=3.0.2 in /usr/local/lib/python3.7/dist-packages (from requests==2.22.0->-r requirements.txt (line 17)) (3.0.4)\n",
            "Requirement already satisfied: certifi>=2017.4.17 in /usr/local/lib/python3.7/dist-packages (from requests==2.22.0->-r requirements.txt (line 17)) (2021.5.30)\n",
            "Requirement already satisfied: urllib3!=1.25.0,!=1.25.1,<1.26,>=1.21.1 in /usr/local/lib/python3.7/dist-packages (from requests==2.22.0->-r requirements.txt (line 17)) (1.24.3)\n",
            "Collecting idna<2.9,>=2.5\n",
            "  Downloading idna-2.8-py2.py3-none-any.whl (58 kB)\n",
            "\u001b[K     |████████████████████████████████| 58 kB 6.5 MB/s \n",
            "\u001b[?25hRequirement already satisfied: joblib>=0.11 in /usr/local/lib/python3.7/dist-packages (from scikit-learn==0.21.2->-r requirements.txt (line 20)) (1.0.1)\n",
            "Collecting websockets==8.*\n",
            "  Downloading websockets-8.1-cp37-cp37m-manylinux2010_x86_64.whl (79 kB)\n",
            "\u001b[K     |████████████████████████████████| 79 kB 8.0 MB/s \n",
            "\u001b[?25hCollecting h11<0.10,>=0.8\n",
            "  Downloading h11-0.9.0-py2.py3-none-any.whl (53 kB)\n",
            "\u001b[K     |████████████████████████████████| 53 kB 2.2 MB/s \n",
            "\u001b[?25hCollecting httptools==0.1.*\n",
            "  Downloading httptools-0.1.2-cp37-cp37m-manylinux1_x86_64.whl (219 kB)\n",
            "\u001b[K     |████████████████████████████████| 219 kB 54.0 MB/s \n",
            "\u001b[?25hCollecting pamqp==2.3.0\n",
            "  Downloading pamqp-2.3.0-py2.py3-none-any.whl (28 kB)\n",
            "Requirement already satisfied: cffi>=1.12 in /usr/local/lib/python3.7/dist-packages (from cryptography>=2.8->pyopenssl==19.1.0->-r requirements.txt (line 15)) (1.14.6)\n",
            "Requirement already satisfied: pycparser in /usr/local/lib/python3.7/dist-packages (from cffi>=1.12->cryptography>=2.8->pyopenssl==19.1.0->-r requirements.txt (line 15)) (2.20)\n",
            "Requirement already satisfied: typing-extensions>=3.7.4 in /usr/local/lib/python3.7/dist-packages (from yarl->aio-pika==6.4.1->-r requirements.txt (line 1)) (3.7.4.3)\n",
            "Collecting multidict>=4.0\n",
            "  Downloading multidict-5.1.0-cp37-cp37m-manylinux2014_x86_64.whl (142 kB)\n",
            "\u001b[K     |████████████████████████████████| 142 kB 51.7 MB/s \n",
            "\u001b[?25hBuilding wheels for collected packages: nltk, overrides, prometheus-client, pytelegrambotapi, sacremoses, starlette\n",
            "  Building wheel for nltk (setup.py) ... \u001b[?25l\u001b[?25hdone\n",
            "  Created wheel for nltk: filename=nltk-3.4.5-py3-none-any.whl size=1449924 sha256=6d353be55865ac4fdba1a5d169e21638801b1073d1aba8a1fab889a9577f91b2\n",
            "  Stored in directory: /root/.cache/pip/wheels/48/8b/7f/473521e0c731c6566d631b281f323842bbda9bd819eb9a3ead\n",
            "  Building wheel for overrides (setup.py) ... \u001b[?25l\u001b[?25hdone\n",
            "  Created wheel for overrides: filename=overrides-2.7.0-py3-none-any.whl size=5604 sha256=12cf0290de85e633eb920cc6396649746ed58dfdb8ca9ba5a1ee5057f633db43\n",
            "  Stored in directory: /root/.cache/pip/wheels/c9/87/45/bfdacf6c3b8233b6e8d519edcbd1cf297ad5ff5f0bf84bb9c1\n",
            "  Building wheel for prometheus-client (setup.py) ... \u001b[?25l\u001b[?25hdone\n",
            "  Created wheel for prometheus-client: filename=prometheus_client-0.7.1-py3-none-any.whl size=41403 sha256=7ddd9d719fc6a0b58879d45ff05239c92825ab1fb82f89d72754790f6b3066b3\n",
            "  Stored in directory: /root/.cache/pip/wheels/30/0c/26/59ba285bf65dc79d195e9b25e2ddde4c61070422729b0cd914\n",
            "  Building wheel for pytelegrambotapi (setup.py) ... \u001b[?25l\u001b[?25hdone\n",
            "  Created wheel for pytelegrambotapi: filename=pyTelegramBotAPI-3.6.7-py3-none-any.whl size=47176 sha256=eb0ded187774adc5f1583d89e10c109ec3e316f74c884f4771ea9a4bf75ed73e\n",
            "  Stored in directory: /root/.cache/pip/wheels/7f/7c/54/8eddf2369ef1b9190e2ee6dc2b40df54b6c65529a38790fdd4\n",
            "  Building wheel for sacremoses (setup.py) ... \u001b[?25l\u001b[?25hdone\n",
            "  Created wheel for sacremoses: filename=sacremoses-0.0.35-py3-none-any.whl size=883990 sha256=bbea2a1a077698aaeb33d9582ef9a2b75b45de10b94ae225334f9e9753db3f44\n",
            "  Stored in directory: /root/.cache/pip/wheels/d1/ff/0e/e00ff1e22100702ac8b24e709551ae0fb29db9ffc843510a64\n",
            "  Building wheel for starlette (setup.py) ... \u001b[?25l\u001b[?25hdone\n",
            "  Created wheel for starlette: filename=starlette-0.12.9-py3-none-any.whl size=57252 sha256=5e8c114672b50023678066ba7a0111eb64e05b398d839c24f7855f739797db20\n",
            "  Stored in directory: /root/.cache/pip/wheels/e8/78/be/f57ed5aed7cd222abdb24e3186b5c9f1074184fcc0a295102b\n",
            "Successfully built nltk overrides prometheus-client pytelegrambotapi sacremoses starlette\n",
            "Installing collected packages: multidict, idna, yarl, pamqp, numpy, websockets, uvloop, starlette, requests, pytz, pymorphy2-dicts, pydantic, httptools, h11, dawg-python, cryptography, aiormq, uvicorn, scikit-learn, sacremoses, rusenttokenize, ruamel.yaml, pytelegrambotapi, pyopenssl, pymorphy2-dicts-ru, pymorphy2, prometheus-client, pandas, overrides, nltk, h5py, fastapi, Cython, aio-pika\n",
            "  Attempting uninstall: idna\n",
            "    Found existing installation: idna 2.10\n",
            "    Uninstalling idna-2.10:\n",
            "      Successfully uninstalled idna-2.10\n",
            "  Attempting uninstall: numpy\n",
            "    Found existing installation: numpy 1.19.5\n",
            "    Uninstalling numpy-1.19.5:\n",
            "      Successfully uninstalled numpy-1.19.5\n",
            "  Attempting uninstall: requests\n",
            "    Found existing installation: requests 2.23.0\n",
            "    Uninstalling requests-2.23.0:\n",
            "      Successfully uninstalled requests-2.23.0\n",
            "  Attempting uninstall: pytz\n",
            "    Found existing installation: pytz 2018.9\n",
            "    Uninstalling pytz-2018.9:\n",
            "      Successfully uninstalled pytz-2018.9\n",
            "  Attempting uninstall: scikit-learn\n",
            "    Found existing installation: scikit-learn 0.22.2.post1\n",
            "    Uninstalling scikit-learn-0.22.2.post1:\n",
            "      Successfully uninstalled scikit-learn-0.22.2.post1\n",
            "  Attempting uninstall: prometheus-client\n",
            "    Found existing installation: prometheus-client 0.11.0\n",
            "    Uninstalling prometheus-client-0.11.0:\n",
            "      Successfully uninstalled prometheus-client-0.11.0\n",
            "  Attempting uninstall: pandas\n",
            "    Found existing installation: pandas 1.1.5\n",
            "    Uninstalling pandas-1.1.5:\n",
            "      Successfully uninstalled pandas-1.1.5\n",
            "  Attempting uninstall: nltk\n",
            "    Found existing installation: nltk 3.2.5\n",
            "    Uninstalling nltk-3.2.5:\n",
            "      Successfully uninstalled nltk-3.2.5\n",
            "  Attempting uninstall: h5py\n",
            "    Found existing installation: h5py 3.1.0\n",
            "    Uninstalling h5py-3.1.0:\n",
            "      Successfully uninstalled h5py-3.1.0\n",
            "  Attempting uninstall: Cython\n",
            "    Found existing installation: Cython 0.29.23\n",
            "    Uninstalling Cython-0.29.23:\n",
            "      Successfully uninstalled Cython-0.29.23\n",
            "\u001b[31mERROR: pip's dependency resolver does not currently take into account all the packages that are installed. This behaviour is the source of the following dependency conflicts.\n",
            "xarray 0.18.2 requires pandas>=1.0, but you have pandas 0.25.3 which is incompatible.\n",
            "tensorflow 2.5.0 requires h5py~=3.1.0, but you have h5py 2.10.0 which is incompatible.\n",
            "tensorflow 2.5.0 requires numpy~=1.19.2, but you have numpy 1.18.0 which is incompatible.\n",
            "kapre 0.3.5 requires numpy>=1.18.5, but you have numpy 1.18.0 which is incompatible.\n",
            "google-colab 1.0.0 requires pandas~=1.1.0; python_version >= \"3.0\", but you have pandas 0.25.3 which is incompatible.\n",
            "google-colab 1.0.0 requires requests~=2.23.0, but you have requests 2.22.0 which is incompatible.\n",
            "fbprophet 0.7.1 requires pandas>=1.0.4, but you have pandas 0.25.3 which is incompatible.\n",
            "datascience 0.10.6 requires folium==0.2.1, but you have folium 0.8.3 which is incompatible.\n",
            "albumentations 0.1.12 requires imgaug<0.2.7,>=0.2.5, but you have imgaug 0.2.9 which is incompatible.\u001b[0m\n",
            "Successfully installed Cython-0.29.14 aio-pika-6.4.1 aiormq-3.3.1 cryptography-3.4.7 dawg-python-0.7.2 fastapi-0.47.1 h11-0.9.0 h5py-2.10.0 httptools-0.1.2 idna-2.8 multidict-5.1.0 nltk-3.4.5 numpy-1.18.0 overrides-2.7.0 pamqp-2.3.0 pandas-0.25.3 prometheus-client-0.7.1 pydantic-1.3 pymorphy2-0.8 pymorphy2-dicts-2.4.393442.3710985 pymorphy2-dicts-ru-2.4.417127.4579844 pyopenssl-19.1.0 pytelegrambotapi-3.6.7 pytz-2019.1 requests-2.22.0 ruamel.yaml-0.15.100 rusenttokenize-0.0.5 sacremoses-0.0.35 scikit-learn-0.21.2 starlette-0.12.9 uvicorn-0.11.7 uvloop-0.14.0 websockets-8.1 yarl-1.6.3\n"
          ]
        },
        {
          "output_type": "display_data",
          "data": {
            "application/vnd.colab-display-data+json": {
              "pip_warning": {
                "packages": [
                  "numpy",
                  "pandas",
                  "pytz"
                ]
              }
            }
          },
          "metadata": {
            "tags": []
          }
        },
        {
          "output_type": "stream",
          "name": "stdout",
          "text": [
            "Collecting transformers==2.9.1\n",
            "  Downloading transformers-2.9.1-py3-none-any.whl (641 kB)\n",
            "\u001b[K     |████████████████████████████████| 641 kB 8.0 MB/s \n",
            "\u001b[?25hCollecting tokenizers==0.7.0\n",
            "  Downloading tokenizers-0.7.0-cp37-cp37m-manylinux1_x86_64.whl (5.6 MB)\n",
            "\u001b[K     |████████████████████████████████| 5.6 MB 21.9 MB/s \n",
            "\u001b[?25hRequirement already satisfied: requests in /usr/local/lib/python3.7/dist-packages (from transformers==2.9.1) (2.22.0)\n",
            "Collecting sentencepiece\n",
            "  Downloading sentencepiece-0.1.96-cp37-cp37m-manylinux_2_17_x86_64.manylinux2014_x86_64.whl (1.2 MB)\n",
            "\u001b[K     |████████████████████████████████| 1.2 MB 47.5 MB/s \n",
            "\u001b[?25hRequirement already satisfied: tqdm>=4.27 in /usr/local/lib/python3.7/dist-packages (from transformers==2.9.1) (4.41.1)\n",
            "Requirement already satisfied: sacremoses in /usr/local/lib/python3.7/dist-packages (from transformers==2.9.1) (0.0.35)\n",
            "Requirement already satisfied: filelock in /usr/local/lib/python3.7/dist-packages (from transformers==2.9.1) (3.0.12)\n",
            "Requirement already satisfied: regex!=2019.12.17 in /usr/local/lib/python3.7/dist-packages (from transformers==2.9.1) (2019.12.20)\n",
            "Requirement already satisfied: numpy in /usr/local/lib/python3.7/dist-packages (from transformers==2.9.1) (1.18.0)\n",
            "Requirement already satisfied: certifi>=2017.4.17 in /usr/local/lib/python3.7/dist-packages (from requests->transformers==2.9.1) (2021.5.30)\n",
            "Requirement already satisfied: urllib3!=1.25.0,!=1.25.1,<1.26,>=1.21.1 in /usr/local/lib/python3.7/dist-packages (from requests->transformers==2.9.1) (1.24.3)\n",
            "Requirement already satisfied: idna<2.9,>=2.5 in /usr/local/lib/python3.7/dist-packages (from requests->transformers==2.9.1) (2.8)\n",
            "Requirement already satisfied: chardet<3.1.0,>=3.0.2 in /usr/local/lib/python3.7/dist-packages (from requests->transformers==2.9.1) (3.0.4)\n",
            "Requirement already satisfied: joblib in /usr/local/lib/python3.7/dist-packages (from sacremoses->transformers==2.9.1) (1.0.1)\n",
            "Requirement already satisfied: six in /usr/local/lib/python3.7/dist-packages (from sacremoses->transformers==2.9.1) (1.15.0)\n",
            "Requirement already satisfied: click in /usr/local/lib/python3.7/dist-packages (from sacremoses->transformers==2.9.1) (7.1.2)\n",
            "Installing collected packages: tokenizers, sentencepiece, transformers\n",
            "Successfully installed sentencepiece-0.1.96 tokenizers-0.7.0 transformers-2.9.1\n"
          ]
        }
      ],
      "metadata": {
        "colab": {
          "base_uri": "https://localhost:8080/",
          "height": 1000
        },
        "id": "Vtu-7ns2TgUz",
        "outputId": "4e681b03-ab93-46c5-c34b-8cae0041750c"
      }
    },
    {
      "cell_type": "markdown",
      "source": [
        "## 0. Data Preparation"
      ],
      "metadata": {
        "id": "4R066YWhTgU6"
      }
    },
    {
      "cell_type": "code",
      "execution_count": 2,
      "source": [
        "from deeppavlov.dataset_readers.dstc2_reader import SimpleDSTC2DatasetReader\n",
        "\n",
        "data = SimpleDSTC2DatasetReader().read('my_data')"
      ],
      "outputs": [
        {
          "output_type": "stream",
          "name": "stderr",
          "text": [
            "2021-08-04 17:56:20.666 INFO in 'deeppavlov.dataset_readers.dstc2_reader'['dstc2_reader'] at line 304: [loading dialogs from my_data/simple-dstc2-trn.json]\n",
            "2021-08-04 17:56:20.676 INFO in 'deeppavlov.dataset_readers.dstc2_reader'['dstc2_reader'] at line 304: [loading dialogs from my_data/simple-dstc2-val.json]\n",
            "2021-08-04 17:56:20.738 INFO in 'deeppavlov.dataset_readers.dstc2_reader'['dstc2_reader'] at line 304: [loading dialogs from my_data/simple-dstc2-tst.json]\n",
            "2021-08-04 17:56:20.843 INFO in 'deeppavlov.dataset_readers.dstc2_reader'['dstc2_reader'] at line 296: There are 479 samples in train split.\n",
            "2021-08-04 17:56:20.844 INFO in 'deeppavlov.dataset_readers.dstc2_reader'['dstc2_reader'] at line 297: There are 6231 samples in valid split.\n",
            "2021-08-04 17:56:20.846 INFO in 'deeppavlov.dataset_readers.dstc2_reader'['dstc2_reader'] at line 298: There are 6345 samples in test split.\n"
          ]
        }
      ],
      "metadata": {
        "colab": {
          "base_uri": "https://localhost:8080/"
        },
        "id": "K9lF3QFJTgU8",
        "outputId": "b77feea2-2cea-446c-fd21-bfd91673bce4"
      }
    },
    {
      "cell_type": "code",
      "execution_count": 3,
      "source": [
        "!ls my_data"
      ],
      "outputs": [
        {
          "output_type": "stream",
          "name": "stdout",
          "text": [
            "dstc2-templates.txt  resto.sqlite\t\t simple-dstc2-tst.json\n",
            "dstc2-trn.jsonlist   simple-dstc2-templates.txt  simple-dstc2-val.json\n",
            "dstc2-tst.jsonlist   simple-dstc2-trn.full.json\n",
            "dstc2-val.jsonlist   simple-dstc2-trn.json\n"
          ]
        }
      ],
      "metadata": {
        "colab": {
          "base_uri": "https://localhost:8080/"
        },
        "id": "uu56jAGJTgVD",
        "outputId": "ee36abd5-25cc-45e8-833e-99249c7e2e7c"
      }
    },
    {
      "cell_type": "markdown",
      "source": [
        "To iterate over batches of preprocessed DSTC-2 we need to import `DatasetIterator`."
      ],
      "metadata": {
        "id": "zO4CWg0XYNSw"
      }
    },
    {
      "cell_type": "code",
      "execution_count": 4,
      "source": [
        "from deeppavlov.dataset_iterators.dialog_iterator import DialogDatasetIterator\n",
        "\n",
        "iterator = DialogDatasetIterator(data)"
      ],
      "outputs": [],
      "metadata": {
        "id": "piBBcw9ZTgVK",
        "scrolled": true
      }
    },
    {
      "cell_type": "markdown",
      "source": [
        "You can now iterate over batches of preprocessed DSTC-2 dialogs:"
      ],
      "metadata": {
        "id": "jVU5JGnTTgVM"
      }
    },
    {
      "cell_type": "code",
      "execution_count": 5,
      "source": [
        "from pprint import pprint\n",
        "\n",
        "for dialog in iterator.gen_batches(batch_size=1, data_type='train'):\n",
        "    turns_x, turns_y = dialog\n",
        "    \n",
        "    print(\"User utterances:\\n----------------\\n\")\n",
        "    pprint(turns_x[0], indent=4)\n",
        "    print(\"\\nSystem responses:\\n-----------------\\n\")\n",
        "    pprint(turns_y[0], indent=4)\n",
        "    \n",
        "    break"
      ],
      "outputs": [
        {
          "output_type": "stream",
          "name": "stdout",
          "text": [
            "User utterances:\n",
            "----------------\n",
            "\n",
            "[   {'prev_resp_act': None, 'text': ''},\n",
            "    {   'prev_resp_act': 'welcomemsg',\n",
            "        'slots': [['food', 'australian'], ['pricerange', 'expensive']],\n",
            "        'text': 'i am looking for an expensive restaurant that serves '\n",
            "                'australian food'},\n",
            "    {   'prev_resp_act': 'confirm-domain',\n",
            "        'slots': [['food', 'australian'], ['pricerange', 'expensive']],\n",
            "        'text': 'i am looking for an expensive restaurant that serves '\n",
            "                'australian food'},\n",
            "    {'prev_resp_act': 'expl-conf_pricerange', 'text': 'ye'},\n",
            "    {'db_result': {}, 'prev_resp_act': 'api_call', 'text': 'ye'},\n",
            "    {   'prev_resp_act': 'canthelp_food_pricerange',\n",
            "        'slots': [['food', 'asian oriental']],\n",
            "        'text': 'how about asian oriental food'},\n",
            "    {   'db_result': {   'addr': '169 high street chesterton chesterton',\n",
            "                         'area': 'north',\n",
            "                         'food': 'asian oriental',\n",
            "                         'name': 'saigon city',\n",
            "                         'phone': '01223 356555',\n",
            "                         'postcode': 'c.b 4, 1 n.l',\n",
            "                         'pricerange': 'expensive'},\n",
            "        'prev_resp_act': 'api_call',\n",
            "        'slots': [['food', 'asian oriental']],\n",
            "        'text': 'how about asian oriental food'},\n",
            "    {   'prev_resp_act': 'inform_food+inform_pricerange+offer_name',\n",
            "        'slots': [['slot', 'area']],\n",
            "        'text': 'what is the area'},\n",
            "    {   'prev_resp_act': 'inform_area+offer_name',\n",
            "        'slots': [['slot', 'phone']],\n",
            "        'text': 'what is the phone number a'},\n",
            "    {   'prev_resp_act': 'inform_phone+offer_name',\n",
            "        'slots': [['slot', 'area']],\n",
            "        'text': 'what is the area of the venue'},\n",
            "    {'prev_resp_act': 'inform_area+offer_name', 'text': 'thank you goodbye'}]\n",
            "\n",
            "System responses:\n",
            "-----------------\n",
            "\n",
            "[   {   'act': 'welcomemsg',\n",
            "        'text': 'Hello, welcome to the Cambridge restaurant system. You can '\n",
            "                'ask for restaurants by area, price range or food type. How '\n",
            "                'may I help you?'},\n",
            "    {   'act': 'confirm-domain',\n",
            "        'text': 'You are looking for a restaurant is that right?'},\n",
            "    {   'act': 'expl-conf_pricerange',\n",
            "        'slots': [['pricerange', 'expensive']],\n",
            "        'text': 'Let me confirm, You are looking for a restaurant in the '\n",
            "                'expensive price range right?'},\n",
            "    {   'act': 'api_call',\n",
            "        'slots': [['food', 'australian'], ['pricerange', 'expensive']],\n",
            "        'text': 'api_call area=\"dontcare\" food=\"australian\" '\n",
            "                'pricerange=\"expensive\"'},\n",
            "    {   'act': 'canthelp_food_pricerange',\n",
            "        'slots': [['food', 'australian'], ['pricerange', 'expensive']],\n",
            "        'text': 'Sorry there is no australian restaurant in the expensive '\n",
            "                'price range.'},\n",
            "    {   'act': 'api_call',\n",
            "        'slots': [['pricerange', 'expensive'], ['food', 'asian oriental']],\n",
            "        'text': 'api_call area=\"dontcare\" food=\"asian oriental\" '\n",
            "                'pricerange=\"expensive\"'},\n",
            "    {   'act': 'inform_food+inform_pricerange+offer_name',\n",
            "        'slots': [   ['pricerange', 'expensive'],\n",
            "                     ['name', 'saigon city'],\n",
            "                     ['food', 'asian oriental']],\n",
            "        'text': 'Saigon city serves asian oriental food in the expensive price '\n",
            "                'range.'},\n",
            "    {   'act': 'inform_area+offer_name',\n",
            "        'slots': [['area', 'north'], ['name', 'saigon city']],\n",
            "        'text': 'Saigon city is in the north part of town.'},\n",
            "    {   'act': 'inform_phone+offer_name',\n",
            "        'slots': [['name', 'saigon city'], ['phone', '01223 356555']],\n",
            "        'text': 'The phone number of saigon city is 01223 356555.'},\n",
            "    {   'act': 'inform_area+offer_name',\n",
            "        'slots': [['area', 'north'], ['name', 'saigon city']],\n",
            "        'text': 'Saigon city is in the north part of town.'},\n",
            "    {'act': 'bye', 'text': 'You are welcome!'}]\n"
          ]
        }
      ],
      "metadata": {
        "colab": {
          "base_uri": "https://localhost:8080/"
        },
        "id": "1RSwEH3CTgVN",
        "outputId": "d25e4678-00df-4d96-d15a-82c796f23ef6"
      }
    },
    {
      "cell_type": "markdown",
      "source": [
        "In real-life annotation of data is expensive. To make our tutorial closer to production use-cases we take  only 50 dialogues for training."
      ],
      "metadata": {
        "id": "AKTZWtm8ZtPi"
      }
    },
    {
      "cell_type": "code",
      "execution_count": 6,
      "source": [
        "!cp my_data/simple-dstc2-trn.json my_data/simple-dstc2-trn.full.json"
      ],
      "outputs": [],
      "metadata": {
        "id": "UlappYTbTgVT"
      }
    },
    {
      "cell_type": "code",
      "execution_count": 7,
      "source": [
        "import json\r\n",
        "\r\n",
        "NUM_TRAIN = 50\r\n",
        "\r\n",
        "with open('my_data/simple-dstc2-trn.full.json', 'rt') as fin:\r\n",
        "    data = json.load(fin)\r\n",
        "with open('my_data/simple-dstc2-trn.json', 'wt') as fout:\r\n",
        "    json.dump(data[:NUM_TRAIN], fout, indent=2)\r\n",
        "print(f\"Train set is reduced to {NUM_TRAIN} dialogues (out of {len(data)}).\")"
      ],
      "outputs": [
        {
          "output_type": "stream",
          "name": "stdout",
          "text": [
            "Train set is reduced to 50 dialogues (out of 50).\n"
          ]
        }
      ],
      "metadata": {
        "colab": {
          "base_uri": "https://localhost:8080/"
        },
        "id": "tTU9yM-CTgVX",
        "outputId": "756c54b6-370a-482a-8e41-ae757247bdd1"
      }
    },
    {
      "cell_type": "markdown",
      "source": [
        "## 1. Build Database of items"
      ],
      "metadata": {
        "id": "l5mjRphbTgVb"
      }
    },
    {
      "cell_type": "markdown",
      "source": [
        "### Building database of restaurants"
      ],
      "metadata": {
        "id": "n597CLhqjqcd"
      }
    },
    {
      "cell_type": "code",
      "execution_count": 8,
      "source": [
        "from deeppavlov.core.data.sqlite_database import Sqlite3Database\r\n",
        "\r\n",
        "database = Sqlite3Database(primary_keys=[\"name\"],\r\n",
        "                           save_path=\"my_bot/db.sqlite\")"
      ],
      "outputs": [
        {
          "output_type": "stream",
          "name": "stderr",
          "text": [
            "2021-08-04 17:56:21.957 WARNING in 'deeppavlov.core.models.serializable'['serializable'] at line 49: No load path is set for Sqlite3Database in 'infer' mode. Using save path instead\n",
            "2021-08-04 17:56:21.961 INFO in 'deeppavlov.core.data.sqlite_database'['sqlite_database'] at line 66: Loading database from /content/DeepPavlov/my_bot/db.sqlite.\n"
          ]
        }
      ],
      "metadata": {
        "id": "JjKbIAyaTgVk",
        "colab": {
          "base_uri": "https://localhost:8080/"
        },
        "outputId": "15207862-4f73-49b1-ca46-5f7d6490384a"
      }
    },
    {
      "cell_type": "code",
      "execution_count": 9,
      "source": [
        "db_results = []\r\n",
        "\r\n",
        "for dialog in iterator.gen_batches(batch_size=1, data_type='all'):\r\n",
        "    turns_x, turns_y = dialog\r\n",
        "    db_results.extend(x['db_result'] for x in turns_x[0] if x.get('db_result'))\r\n",
        "\r\n",
        "print(f\"Adding {len(db_results)} items.\")\r\n",
        "if db_results:\r\n",
        "    database.fit(db_results)"
      ],
      "outputs": [
        {
          "output_type": "stream",
          "name": "stdout",
          "text": [
            "Adding 1780 items.\n"
          ]
        }
      ],
      "metadata": {
        "id": "RlKg5UtqTgVp",
        "colab": {
          "base_uri": "https://localhost:8080/"
        },
        "outputId": "ea53157f-254e-4e3f-fd57-fae6c593c6ab"
      }
    },
    {
      "cell_type": "markdown",
      "source": [
        "### Interacting with database"
      ],
      "metadata": {
        "id": "XeJMI9qaTgVt"
      }
    },
    {
      "cell_type": "markdown",
      "source": [
        "We can now play with the database and make requests to it:"
      ],
      "metadata": {
        "id": "2JLUF2b_TgVu"
      }
    },
    {
      "cell_type": "code",
      "execution_count": 10,
      "source": [
        "database([{'pricerange': 'cheap', 'area': 'south'}])"
      ],
      "outputs": [
        {
          "output_type": "execute_result",
          "data": {
            "text/plain": [
              "[[{'addr': 'cambridge leisure park clifton way',\n",
              "   'area': 'south',\n",
              "   'food': 'portuguese',\n",
              "   'name': 'nandos',\n",
              "   'phone': '01223 327908',\n",
              "   'postcode': 'c.b 1, 7 d.y',\n",
              "   'pricerange': 'cheap'},\n",
              "  {'addr': 'cambridge leisure park clifton way cherry hinton',\n",
              "   'area': 'south',\n",
              "   'food': 'chinese',\n",
              "   'name': 'the lucky star',\n",
              "   'phone': '01223 244277',\n",
              "   'postcode': 'c.b 1, 7 d.y',\n",
              "   'pricerange': 'cheap'}]]"
            ]
          },
          "metadata": {
            "tags": []
          },
          "execution_count": 10
        }
      ],
      "metadata": {
        "id": "VRCU_MJnTgVv",
        "colab": {
          "base_uri": "https://localhost:8080/"
        },
        "outputId": "a6f4a88c-a93f-4d42-f486-dc63f7fa6cec"
      }
    },
    {
      "cell_type": "markdown",
      "source": [
        "## 3. Build and Train a Bot"
      ],
      "metadata": {
        "id": "E_InRKO6TgWt"
      }
    },
    {
      "cell_type": "markdown",
      "source": [
        "The below image comes from the [TripPy paper](https://arxiv.org/pdf/2005.02877.pdf) and sketches out the models architecture.\n",
        "\n",
        "&nbsp;\n",
        "![trippy_architecture_original.png](https://github.com/Muennighoff/DeepPavlov/blob/rulebased_gobot_trippy/examples/img/trippy_architecture_original.jpg?raw=1)\n",
        "&nbsp;\n",
        "\n",
        "The entire dialogue history, the last system & user utterances are tokenized and fed into a [BERT Model](https://arxiv.org/pdf/1810.04805.pdf). The model makes use of attention to calculate the importance of tokens in the input. In TripPy the BERT model is trained to do binary clasification for each input token in regards to whether it is a slot value of one of the predefined slot names.\n",
        "\n",
        "For example, for the slot name \"pricerange\" the model will look at each token and classify whether it corresponds to that slot. For the input: *I want cheap food*, the output for pricerange should be [0,0,1,0], hence identifying that cheap corresponds to the pricerange. This span prediction is then used to copy the value out of the input.\n",
        "\n",
        "Apart from \"span\" (also called \"copy_value\"), other \"class types\" (Predictions made for each slot name) are: \n",
        "- \"dontcare\" The model thinks the user does not care about this slot name's value\n",
        "- \"none\": The user has not yet indicated his preference for this slot name\n",
        "- \"refer\": The user has indicated his preference via another slot name\n",
        "- \"inform\": The model has previously informed the user about the slot name\n",
        "- \"true / false\": Used when there are slotnames with boolean values\n",
        "\n",
        "Below is a sketch for how the full TripPy model has been implemented in DeepPavlov:\n",
        "\n",
        "&nbsp;\n",
        "![trippy_architecture.png](https://github.com/Muennighoff/DeepPavlov/blob/rulebased_gobot_trippy/examples/img/trippy_architecture.png?raw=1)\n",
        "&nbsp;\n",
        "\n",
        "The above image also includes the input & input processing steps, while the previous sketch starts with the BERT Model (BERTForDST). \n",
        "Novel things in the DeepPavlov TripPy implementation are:\n",
        "- The preprocessing is robust to datasets which do not contain position labels (During training TripPy requires position labels to train up its copy value capabilities) - This has been done by calculating Levenshtein distances\n",
        "- An action prediction head has been added, which predicts what action the system should take from a predefined list of actions\n",
        "- A database connection has been added, which allows the model to retrieve information about slot values from an sqlite Database\n",
        "- A Natural Language Generation component has been added, which takes in the predicted action and database results and puts together the final response tothe user\n",
        "\n",
        "\n",
        "We will now proceed with configuring the model & training."
      ],
      "metadata": {
        "id": "skZd9O3bKHMo"
      }
    },
    {
      "cell_type": "code",
      "execution_count": 11,
      "source": [
        "from deeppavlov import configs\n",
        "from deeppavlov.core.common.file import read_json\n",
        "\n",
        "# Use TripPy Config\n",
        "gobot_config = read_json(configs.go_bot.trippy_dstc2_minimal)\n",
        "\n",
        "gobot_config['chainer']['pipe'][-1]['nlg_manager']['template_type'] = 'DefaultTemplate'\n",
        "gobot_config['chainer']['pipe'][-1]['nlg_manager']['template_path'] = 'my_data/simple-dstc2-templates.txt'\n",
        "\n",
        "gobot_config['metadata']['variables']['DATA_PATH'] = 'my_data'\n",
        "gobot_config['metadata']['variables']['MODEL_PATH'] = 'my_bot'"
      ],
      "outputs": [],
      "metadata": {
        "id": "db9_ozwnTgW5"
      }
    },
    {
      "cell_type": "markdown",
      "source": [
        "\n",
        "\n",
        "Configure bot to use our database:"
      ],
      "metadata": {
        "id": "oNGj-ARxTgW-"
      }
    },
    {
      "cell_type": "code",
      "execution_count": 12,
      "source": [
        "gobot_config['chainer']['pipe'][-1]['database'] = {\n",
        "    'class_name': 'sqlite_database',\n",
        "    'primary_keys': [\"name\"],\n",
        "    'save_path': 'my_bot/db.sqlite'\n",
        "}"
      ],
      "outputs": [],
      "metadata": {
        "id": "VanrlHZZTgXB"
      }
    },
    {
      "cell_type": "markdown",
      "source": [
        "Configure bot to use templates:"
      ],
      "metadata": {
        "id": "6l6H_t1iTgW7"
      }
    },
    {
      "cell_type": "code",
      "execution_count": 13,
      "source": [
        "gobot_config['chainer']['pipe'][-1]['nlg_manager']['template_type'] = 'DefaultTemplate'\n",
        "gobot_config['chainer']['pipe'][-1]['nlg_manager']['template_path'] = 'my_data/simple-dstc2-templates.txt'"
      ],
      "outputs": [],
      "metadata": {
        "id": "209m3f6yTgW8"
      }
    },
    {
      "cell_type": "markdown",
      "source": [
        "Specify train/valid/test data path and path to save the final bot model:"
      ],
      "metadata": {
        "id": "HMXih1roTgXi"
      }
    },
    {
      "cell_type": "code",
      "execution_count": 14,
      "source": [
        "gobot_config['metadata']['variables']['DATA_PATH'] = 'my_data'\r\n",
        "gobot_config['metadata']['variables']['MODEL_PATH'] = 'my_bot'\r\n",
        "# Configure the possible slot names - The \"this\" slotname is meaningless, but it is somehow part of the training set\r\n",
        "gobot_config['chainer']['pipe'][-1]['slot_names'] = ['pricerange', 'this', 'area', 'food']"
      ],
      "outputs": [],
      "metadata": {
        "id": "vTUdrrQVTgXi"
      }
    },
    {
      "cell_type": "code",
      "execution_count": null,
      "source": [
        "from deeppavlov import train_model\r\n",
        "\r\n",
        "gobot_config['train']['batch_size'] = 4 # set batch size - Ideally use 8 & set lr to 1e-4 if your GPU allows\r\n",
        "gobot_config['train']['max_batches'] = 600 # maximum number of training batches\r\n",
        "gobot_config['train']['val_every_n_batches'] = 40 # evaluate on full 'valid' split every x epochs\r\n",
        "gobot_config['train']['log_every_n_batches'] = 40 # evaluate on full 'train' split every x batches\r\n",
        "gobot_config['train']['validation_patience'] = 10 # evaluate on full 'valid' split every x epochs\r\n",
        "gobot_config['train']['log_on_k_batches'] = 10 # How many batches to use for logging\r\n",
        "\r\n",
        "gobot_config['chainer']['pipe'][-1]['debug'] = False\r\n",
        "gobot_config['chainer']['pipe'][-1][\"optimizer_parameters\"] = {\"lr\": 1e-5, \"eps\": 1e-6}\r\n",
        "\r\n",
        "train_model(gobot_config)"
      ],
      "outputs": [],
      "metadata": {
        "id": "7ekUezSjWGEz"
      }
    },
    {
      "cell_type": "markdown",
      "source": [
        "Optionally, you can download the pre-trained model from kaggle. You will need a kaggle account and to upload your kaggle.json file. Then you may have to run the below cell two times."
      ],
      "metadata": {
        "id": "BCHybLSa_Gzx"
      }
    },
    {
      "cell_type": "code",
      "execution_count": 18,
      "source": [
        "### Optional - Download Pretrained TripPy from kaggle ###\r\n",
        "\r\n",
        "# Make your json accessible to kaggle\r\n",
        "#!cp /content/kaggle.json /root/.kaggle/\r\n",
        "\r\n",
        "# Download the dataset\r\n",
        "#!kaggle datasets download -d muennighoff/trippy-restaurant\r\n",
        "#!unzip trippy-restaurant.zip\r\n",
        "\r\n",
        "# Move into correct directory\r\n",
        "#!mv db.sqlite /content/DeepPavlov/my_bot/\r\n",
        "#!mv model.pth.tar /content/DeepPavlov/my_bot/"
      ],
      "outputs": [
        {
          "output_type": "stream",
          "name": "stdout",
          "text": [
            "Warning: Your Kaggle API key is readable by other users on this system! To fix this, you can run 'chmod 600 /root/.kaggle/kaggle.json'\n",
            "trippy-restaurant.zip: Skipping, found more recently modified local copy (use --force to force download)\n",
            "Archive:  trippy-restaurant.zip\n",
            "  inflating: db.sqlite               \n",
            "  inflating: model.pth.tar           \n"
          ]
        }
      ],
      "metadata": {
        "colab": {
          "base_uri": "https://localhost:8080/"
        },
        "id": "Pq-U6mvu-js-",
        "outputId": "e1621feb-7448-49a6-b365-d5ee49b39ef4"
      }
    },
    {
      "cell_type": "markdown",
      "source": [
        "### Evaluation of training"
      ],
      "metadata": {
        "id": "ldfDa9dUTgX1"
      }
    },
    {
      "cell_type": "markdown",
      "source": [
        "Calculating **accuracy** of trained bot: whether predicted system responses match true responses (full string match)."
      ],
      "metadata": {
        "id": "k-z7wZjOTgX6"
      }
    },
    {
      "cell_type": "code",
      "execution_count": null,
      "source": [
        "from deeppavlov import evaluate_model\n",
        "\n",
        "evaluate_model(gobot_config);"
      ],
      "outputs": [],
      "metadata": {
        "id": "INAcWeKfHR63"
      }
    },
    {
      "cell_type": "markdown",
      "source": [
        "With settings of `max_batches=800`, valid accuracy `= 0.44` and test accuracy is `~ 0.45`.\n",
        "\n",
        "\n",
        "If you have the compute, try training the model with a higher batch size, such as 8, or 16. The code automatically detects multiple GPUs and will run Data Parallelism. You will, however, need to upgrade the transformers huggingface version to 4.X and fix two transformer import statements in the TripPy code that will be raised.\n",
        "\n"
      ],
      "metadata": {
        "id": "1wZOqmYBTgYB"
      }
    },
    {
      "cell_type": "markdown",
      "source": [
        "## 4. Interact with Bot"
      ],
      "metadata": {
        "id": "ElGD1tnJTgYC"
      }
    },
    {
      "cell_type": "code",
      "execution_count": 19,
      "source": [
        "from deeppavlov import build_model\n",
        "\n",
        "bot = build_model(gobot_config)"
      ],
      "outputs": [
        {
          "output_type": "stream",
          "name": "stderr",
          "text": [
            "2021-08-04 18:17:39.8 WARNING in 'deeppavlov.core.models.serializable'['serializable'] at line 49: No load path is set for Sqlite3Database in 'infer' mode. Using save path instead\n",
            "2021-08-04 18:17:39.11 INFO in 'deeppavlov.core.data.sqlite_database'['sqlite_database'] at line 66: Loading database from /content/DeepPavlov/my_bot/db.sqlite.\n",
            "2021-08-04 18:17:43.393 INFO in 'deeppavlov.models.go_bot.trippy'['trippy'] at line 159: Load path /content/DeepPavlov/my_bot/model is given.\n",
            "2021-08-04 18:17:43.395 INFO in 'deeppavlov.models.go_bot.trippy'['trippy'] at line 166: Load path /content/DeepPavlov/my_bot/model.pth.tar exists.\n",
            "2021-08-04 18:17:43.402 INFO in 'deeppavlov.models.go_bot.trippy'['trippy'] at line 167: Initializing `TripPy` from saved.\n",
            "2021-08-04 18:17:43.403 INFO in 'deeppavlov.models.go_bot.trippy'['trippy'] at line 170: Loading weights from /content/DeepPavlov/my_bot/model.pth.tar.\n",
            "2021-08-04 18:17:44.545 INFO in 'deeppavlov.core.models.torch_model'['torch_model'] at line 98: Model was successfully initialized! Model summary:\n",
            " BertForDST(\n",
            "  (bert): BertModel(\n",
            "    (embeddings): BertEmbeddings(\n",
            "      (word_embeddings): Embedding(30522, 768, padding_idx=0)\n",
            "      (position_embeddings): Embedding(512, 768)\n",
            "      (token_type_embeddings): Embedding(2, 768)\n",
            "      (LayerNorm): LayerNorm((768,), eps=1e-12, elementwise_affine=True)\n",
            "      (dropout): Dropout(p=0.1, inplace=False)\n",
            "    )\n",
            "    (encoder): BertEncoder(\n",
            "      (layer): ModuleList(\n",
            "        (0): BertLayer(\n",
            "          (attention): BertAttention(\n",
            "            (self): BertSelfAttention(\n",
            "              (query): Linear(in_features=768, out_features=768, bias=True)\n",
            "              (key): Linear(in_features=768, out_features=768, bias=True)\n",
            "              (value): Linear(in_features=768, out_features=768, bias=True)\n",
            "              (dropout): Dropout(p=0.1, inplace=False)\n",
            "            )\n",
            "            (output): BertSelfOutput(\n",
            "              (dense): Linear(in_features=768, out_features=768, bias=True)\n",
            "              (LayerNorm): LayerNorm((768,), eps=1e-12, elementwise_affine=True)\n",
            "              (dropout): Dropout(p=0.1, inplace=False)\n",
            "            )\n",
            "          )\n",
            "          (intermediate): BertIntermediate(\n",
            "            (dense): Linear(in_features=768, out_features=3072, bias=True)\n",
            "          )\n",
            "          (output): BertOutput(\n",
            "            (dense): Linear(in_features=3072, out_features=768, bias=True)\n",
            "            (LayerNorm): LayerNorm((768,), eps=1e-12, elementwise_affine=True)\n",
            "            (dropout): Dropout(p=0.1, inplace=False)\n",
            "          )\n",
            "        )\n",
            "        (1): BertLayer(\n",
            "          (attention): BertAttention(\n",
            "            (self): BertSelfAttention(\n",
            "              (query): Linear(in_features=768, out_features=768, bias=True)\n",
            "              (key): Linear(in_features=768, out_features=768, bias=True)\n",
            "              (value): Linear(in_features=768, out_features=768, bias=True)\n",
            "              (dropout): Dropout(p=0.1, inplace=False)\n",
            "            )\n",
            "            (output): BertSelfOutput(\n",
            "              (dense): Linear(in_features=768, out_features=768, bias=True)\n",
            "              (LayerNorm): LayerNorm((768,), eps=1e-12, elementwise_affine=True)\n",
            "              (dropout): Dropout(p=0.1, inplace=False)\n",
            "            )\n",
            "          )\n",
            "          (intermediate): BertIntermediate(\n",
            "            (dense): Linear(in_features=768, out_features=3072, bias=True)\n",
            "          )\n",
            "          (output): BertOutput(\n",
            "            (dense): Linear(in_features=3072, out_features=768, bias=True)\n",
            "            (LayerNorm): LayerNorm((768,), eps=1e-12, elementwise_affine=True)\n",
            "            (dropout): Dropout(p=0.1, inplace=False)\n",
            "          )\n",
            "        )\n",
            "        (2): BertLayer(\n",
            "          (attention): BertAttention(\n",
            "            (self): BertSelfAttention(\n",
            "              (query): Linear(in_features=768, out_features=768, bias=True)\n",
            "              (key): Linear(in_features=768, out_features=768, bias=True)\n",
            "              (value): Linear(in_features=768, out_features=768, bias=True)\n",
            "              (dropout): Dropout(p=0.1, inplace=False)\n",
            "            )\n",
            "            (output): BertSelfOutput(\n",
            "              (dense): Linear(in_features=768, out_features=768, bias=True)\n",
            "              (LayerNorm): LayerNorm((768,), eps=1e-12, elementwise_affine=True)\n",
            "              (dropout): Dropout(p=0.1, inplace=False)\n",
            "            )\n",
            "          )\n",
            "          (intermediate): BertIntermediate(\n",
            "            (dense): Linear(in_features=768, out_features=3072, bias=True)\n",
            "          )\n",
            "          (output): BertOutput(\n",
            "            (dense): Linear(in_features=3072, out_features=768, bias=True)\n",
            "            (LayerNorm): LayerNorm((768,), eps=1e-12, elementwise_affine=True)\n",
            "            (dropout): Dropout(p=0.1, inplace=False)\n",
            "          )\n",
            "        )\n",
            "        (3): BertLayer(\n",
            "          (attention): BertAttention(\n",
            "            (self): BertSelfAttention(\n",
            "              (query): Linear(in_features=768, out_features=768, bias=True)\n",
            "              (key): Linear(in_features=768, out_features=768, bias=True)\n",
            "              (value): Linear(in_features=768, out_features=768, bias=True)\n",
            "              (dropout): Dropout(p=0.1, inplace=False)\n",
            "            )\n",
            "            (output): BertSelfOutput(\n",
            "              (dense): Linear(in_features=768, out_features=768, bias=True)\n",
            "              (LayerNorm): LayerNorm((768,), eps=1e-12, elementwise_affine=True)\n",
            "              (dropout): Dropout(p=0.1, inplace=False)\n",
            "            )\n",
            "          )\n",
            "          (intermediate): BertIntermediate(\n",
            "            (dense): Linear(in_features=768, out_features=3072, bias=True)\n",
            "          )\n",
            "          (output): BertOutput(\n",
            "            (dense): Linear(in_features=3072, out_features=768, bias=True)\n",
            "            (LayerNorm): LayerNorm((768,), eps=1e-12, elementwise_affine=True)\n",
            "            (dropout): Dropout(p=0.1, inplace=False)\n",
            "          )\n",
            "        )\n",
            "        (4): BertLayer(\n",
            "          (attention): BertAttention(\n",
            "            (self): BertSelfAttention(\n",
            "              (query): Linear(in_features=768, out_features=768, bias=True)\n",
            "              (key): Linear(in_features=768, out_features=768, bias=True)\n",
            "              (value): Linear(in_features=768, out_features=768, bias=True)\n",
            "              (dropout): Dropout(p=0.1, inplace=False)\n",
            "            )\n",
            "            (output): BertSelfOutput(\n",
            "              (dense): Linear(in_features=768, out_features=768, bias=True)\n",
            "              (LayerNorm): LayerNorm((768,), eps=1e-12, elementwise_affine=True)\n",
            "              (dropout): Dropout(p=0.1, inplace=False)\n",
            "            )\n",
            "          )\n",
            "          (intermediate): BertIntermediate(\n",
            "            (dense): Linear(in_features=768, out_features=3072, bias=True)\n",
            "          )\n",
            "          (output): BertOutput(\n",
            "            (dense): Linear(in_features=3072, out_features=768, bias=True)\n",
            "            (LayerNorm): LayerNorm((768,), eps=1e-12, elementwise_affine=True)\n",
            "            (dropout): Dropout(p=0.1, inplace=False)\n",
            "          )\n",
            "        )\n",
            "        (5): BertLayer(\n",
            "          (attention): BertAttention(\n",
            "            (self): BertSelfAttention(\n",
            "              (query): Linear(in_features=768, out_features=768, bias=True)\n",
            "              (key): Linear(in_features=768, out_features=768, bias=True)\n",
            "              (value): Linear(in_features=768, out_features=768, bias=True)\n",
            "              (dropout): Dropout(p=0.1, inplace=False)\n",
            "            )\n",
            "            (output): BertSelfOutput(\n",
            "              (dense): Linear(in_features=768, out_features=768, bias=True)\n",
            "              (LayerNorm): LayerNorm((768,), eps=1e-12, elementwise_affine=True)\n",
            "              (dropout): Dropout(p=0.1, inplace=False)\n",
            "            )\n",
            "          )\n",
            "          (intermediate): BertIntermediate(\n",
            "            (dense): Linear(in_features=768, out_features=3072, bias=True)\n",
            "          )\n",
            "          (output): BertOutput(\n",
            "            (dense): Linear(in_features=3072, out_features=768, bias=True)\n",
            "            (LayerNorm): LayerNorm((768,), eps=1e-12, elementwise_affine=True)\n",
            "            (dropout): Dropout(p=0.1, inplace=False)\n",
            "          )\n",
            "        )\n",
            "        (6): BertLayer(\n",
            "          (attention): BertAttention(\n",
            "            (self): BertSelfAttention(\n",
            "              (query): Linear(in_features=768, out_features=768, bias=True)\n",
            "              (key): Linear(in_features=768, out_features=768, bias=True)\n",
            "              (value): Linear(in_features=768, out_features=768, bias=True)\n",
            "              (dropout): Dropout(p=0.1, inplace=False)\n",
            "            )\n",
            "            (output): BertSelfOutput(\n",
            "              (dense): Linear(in_features=768, out_features=768, bias=True)\n",
            "              (LayerNorm): LayerNorm((768,), eps=1e-12, elementwise_affine=True)\n",
            "              (dropout): Dropout(p=0.1, inplace=False)\n",
            "            )\n",
            "          )\n",
            "          (intermediate): BertIntermediate(\n",
            "            (dense): Linear(in_features=768, out_features=3072, bias=True)\n",
            "          )\n",
            "          (output): BertOutput(\n",
            "            (dense): Linear(in_features=3072, out_features=768, bias=True)\n",
            "            (LayerNorm): LayerNorm((768,), eps=1e-12, elementwise_affine=True)\n",
            "            (dropout): Dropout(p=0.1, inplace=False)\n",
            "          )\n",
            "        )\n",
            "        (7): BertLayer(\n",
            "          (attention): BertAttention(\n",
            "            (self): BertSelfAttention(\n",
            "              (query): Linear(in_features=768, out_features=768, bias=True)\n",
            "              (key): Linear(in_features=768, out_features=768, bias=True)\n",
            "              (value): Linear(in_features=768, out_features=768, bias=True)\n",
            "              (dropout): Dropout(p=0.1, inplace=False)\n",
            "            )\n",
            "            (output): BertSelfOutput(\n",
            "              (dense): Linear(in_features=768, out_features=768, bias=True)\n",
            "              (LayerNorm): LayerNorm((768,), eps=1e-12, elementwise_affine=True)\n",
            "              (dropout): Dropout(p=0.1, inplace=False)\n",
            "            )\n",
            "          )\n",
            "          (intermediate): BertIntermediate(\n",
            "            (dense): Linear(in_features=768, out_features=3072, bias=True)\n",
            "          )\n",
            "          (output): BertOutput(\n",
            "            (dense): Linear(in_features=3072, out_features=768, bias=True)\n",
            "            (LayerNorm): LayerNorm((768,), eps=1e-12, elementwise_affine=True)\n",
            "            (dropout): Dropout(p=0.1, inplace=False)\n",
            "          )\n",
            "        )\n",
            "        (8): BertLayer(\n",
            "          (attention): BertAttention(\n",
            "            (self): BertSelfAttention(\n",
            "              (query): Linear(in_features=768, out_features=768, bias=True)\n",
            "              (key): Linear(in_features=768, out_features=768, bias=True)\n",
            "              (value): Linear(in_features=768, out_features=768, bias=True)\n",
            "              (dropout): Dropout(p=0.1, inplace=False)\n",
            "            )\n",
            "            (output): BertSelfOutput(\n",
            "              (dense): Linear(in_features=768, out_features=768, bias=True)\n",
            "              (LayerNorm): LayerNorm((768,), eps=1e-12, elementwise_affine=True)\n",
            "              (dropout): Dropout(p=0.1, inplace=False)\n",
            "            )\n",
            "          )\n",
            "          (intermediate): BertIntermediate(\n",
            "            (dense): Linear(in_features=768, out_features=3072, bias=True)\n",
            "          )\n",
            "          (output): BertOutput(\n",
            "            (dense): Linear(in_features=3072, out_features=768, bias=True)\n",
            "            (LayerNorm): LayerNorm((768,), eps=1e-12, elementwise_affine=True)\n",
            "            (dropout): Dropout(p=0.1, inplace=False)\n",
            "          )\n",
            "        )\n",
            "        (9): BertLayer(\n",
            "          (attention): BertAttention(\n",
            "            (self): BertSelfAttention(\n",
            "              (query): Linear(in_features=768, out_features=768, bias=True)\n",
            "              (key): Linear(in_features=768, out_features=768, bias=True)\n",
            "              (value): Linear(in_features=768, out_features=768, bias=True)\n",
            "              (dropout): Dropout(p=0.1, inplace=False)\n",
            "            )\n",
            "            (output): BertSelfOutput(\n",
            "              (dense): Linear(in_features=768, out_features=768, bias=True)\n",
            "              (LayerNorm): LayerNorm((768,), eps=1e-12, elementwise_affine=True)\n",
            "              (dropout): Dropout(p=0.1, inplace=False)\n",
            "            )\n",
            "          )\n",
            "          (intermediate): BertIntermediate(\n",
            "            (dense): Linear(in_features=768, out_features=3072, bias=True)\n",
            "          )\n",
            "          (output): BertOutput(\n",
            "            (dense): Linear(in_features=3072, out_features=768, bias=True)\n",
            "            (LayerNorm): LayerNorm((768,), eps=1e-12, elementwise_affine=True)\n",
            "            (dropout): Dropout(p=0.1, inplace=False)\n",
            "          )\n",
            "        )\n",
            "        (10): BertLayer(\n",
            "          (attention): BertAttention(\n",
            "            (self): BertSelfAttention(\n",
            "              (query): Linear(in_features=768, out_features=768, bias=True)\n",
            "              (key): Linear(in_features=768, out_features=768, bias=True)\n",
            "              (value): Linear(in_features=768, out_features=768, bias=True)\n",
            "              (dropout): Dropout(p=0.1, inplace=False)\n",
            "            )\n",
            "            (output): BertSelfOutput(\n",
            "              (dense): Linear(in_features=768, out_features=768, bias=True)\n",
            "              (LayerNorm): LayerNorm((768,), eps=1e-12, elementwise_affine=True)\n",
            "              (dropout): Dropout(p=0.1, inplace=False)\n",
            "            )\n",
            "          )\n",
            "          (intermediate): BertIntermediate(\n",
            "            (dense): Linear(in_features=768, out_features=3072, bias=True)\n",
            "          )\n",
            "          (output): BertOutput(\n",
            "            (dense): Linear(in_features=3072, out_features=768, bias=True)\n",
            "            (LayerNorm): LayerNorm((768,), eps=1e-12, elementwise_affine=True)\n",
            "            (dropout): Dropout(p=0.1, inplace=False)\n",
            "          )\n",
            "        )\n",
            "        (11): BertLayer(\n",
            "          (attention): BertAttention(\n",
            "            (self): BertSelfAttention(\n",
            "              (query): Linear(in_features=768, out_features=768, bias=True)\n",
            "              (key): Linear(in_features=768, out_features=768, bias=True)\n",
            "              (value): Linear(in_features=768, out_features=768, bias=True)\n",
            "              (dropout): Dropout(p=0.1, inplace=False)\n",
            "            )\n",
            "            (output): BertSelfOutput(\n",
            "              (dense): Linear(in_features=768, out_features=768, bias=True)\n",
            "              (LayerNorm): LayerNorm((768,), eps=1e-12, elementwise_affine=True)\n",
            "              (dropout): Dropout(p=0.1, inplace=False)\n",
            "            )\n",
            "          )\n",
            "          (intermediate): BertIntermediate(\n",
            "            (dense): Linear(in_features=768, out_features=3072, bias=True)\n",
            "          )\n",
            "          (output): BertOutput(\n",
            "            (dense): Linear(in_features=3072, out_features=768, bias=True)\n",
            "            (LayerNorm): LayerNorm((768,), eps=1e-12, elementwise_affine=True)\n",
            "            (dropout): Dropout(p=0.1, inplace=False)\n",
            "          )\n",
            "        )\n",
            "      )\n",
            "    )\n",
            "    (pooler): BertPooler(\n",
            "      (dense): Linear(in_features=768, out_features=768, bias=True)\n",
            "      (activation): Tanh()\n",
            "    )\n",
            "  )\n",
            "  (dropout): Dropout(p=0.3, inplace=False)\n",
            "  (dropout_heads): Dropout(p=0.0, inplace=False)\n",
            "  (inform_projection): Linear(in_features=4, out_features=4, bias=True)\n",
            "  (ds_projection): Linear(in_features=4, out_features=4, bias=True)\n",
            "  (class_pricerange): Linear(in_features=776, out_features=4, bias=True)\n",
            "  (token_pricerange): Linear(in_features=768, out_features=2, bias=True)\n",
            "  (refer_pricerange): Linear(in_features=776, out_features=5, bias=True)\n",
            "  (class_this): Linear(in_features=776, out_features=4, bias=True)\n",
            "  (token_this): Linear(in_features=768, out_features=2, bias=True)\n",
            "  (refer_this): Linear(in_features=776, out_features=5, bias=True)\n",
            "  (class_area): Linear(in_features=776, out_features=4, bias=True)\n",
            "  (token_area): Linear(in_features=768, out_features=2, bias=True)\n",
            "  (refer_area): Linear(in_features=776, out_features=5, bias=True)\n",
            "  (class_food): Linear(in_features=776, out_features=4, bias=True)\n",
            "  (token_food): Linear(in_features=768, out_features=2, bias=True)\n",
            "  (refer_food): Linear(in_features=776, out_features=5, bias=True)\n",
            "  (action_prediction): Linear(in_features=776, out_features=46, bias=True)\n",
            "  (action_softmax): Softmax(dim=1)\n",
            ")\n"
          ]
        }
      ],
      "metadata": {
        "id": "m9sJXOPPTgYF",
        "colab": {
          "base_uri": "https://localhost:8080/"
        },
        "outputId": "2ffbfa50-a69a-4cd1-da80-7a5bb575ac95"
      }
    },
    {
      "cell_type": "code",
      "execution_count": 20,
      "source": [
        "bot.reset()\n",
        "bot(['hi, i want to eat, can you suggest a place to go?'])"
      ],
      "outputs": [
        {
          "output_type": "execute_result",
          "data": {
            "text/plain": [
              "[['What kind of food would you like?']]"
            ]
          },
          "metadata": {
            "tags": []
          },
          "execution_count": 20
        }
      ],
      "metadata": {
        "id": "HVLHl5jlpQMr",
        "colab": {
          "base_uri": "https://localhost:8080/"
        },
        "outputId": "6c712012-865a-4ffc-cba9-f1862605ebc4"
      }
    },
    {
      "cell_type": "code",
      "execution_count": 21,
      "source": [
        "bot(['Perhaps something cheap'])"
      ],
      "outputs": [
        {
          "output_type": "execute_result",
          "data": {
            "text/plain": [
              "[['What part of town do you have in mind?']]"
            ]
          },
          "metadata": {
            "tags": []
          },
          "execution_count": 21
        }
      ],
      "metadata": {
        "id": "Pb6AutTSpRUq",
        "colab": {
          "base_uri": "https://localhost:8080/"
        },
        "outputId": "8692579c-47e6-43f5-cdda-ee9d93c8a45f"
      }
    },
    {
      "cell_type": "code",
      "execution_count": 22,
      "source": [
        "bot(['In the north of town'])"
      ],
      "outputs": [
        {
          "output_type": "stream",
          "name": "stderr",
          "text": [
            "2021-08-04 18:17:53.170 INFO in 'deeppavlov.models.go_bot.trippy'['trippy'] at line 397: Made api_call with dict_keys(['pricerange', 'this', 'area', 'food']), got 11 results.\n"
          ]
        },
        {
          "output_type": "execute_result",
          "data": {
            "text/plain": [
              "[['api_call area=\"north\" food=\"dontcare\" pricerange=\"dontcare\"',\n",
              "  'Meghna is a nice place in the north of town and the prices are moderate.']]"
            ]
          },
          "metadata": {
            "tags": []
          },
          "execution_count": 22
        }
      ],
      "metadata": {
        "id": "VJVRKZe-bJyn",
        "colab": {
          "base_uri": "https://localhost:8080/"
        },
        "outputId": "03b9dc2d-b208-4773-86f7-ae203df97ffe"
      }
    },
    {
      "cell_type": "code",
      "execution_count": 23,
      "source": [
        "bot(['Whats their phone number?'])"
      ],
      "outputs": [
        {
          "output_type": "execute_result",
          "data": {
            "text/plain": [
              "[['The phone number of meghna is 01223 727410.']]"
            ]
          },
          "metadata": {
            "tags": []
          },
          "execution_count": 23
        }
      ],
      "metadata": {
        "id": "P6hr6IETcFxa",
        "colab": {
          "base_uri": "https://localhost:8080/"
        },
        "outputId": "09fda97f-a1b7-42a7-ddac-dca8e27e9688"
      }
    },
    {
      "cell_type": "code",
      "execution_count": 24,
      "source": [
        "bot(['and the address?'])"
      ],
      "outputs": [
        {
          "output_type": "execute_result",
          "data": {
            "text/plain": [
              "[['Sure, meghna is on 205 victoria road chesterton.']]"
            ]
          },
          "metadata": {
            "tags": []
          },
          "execution_count": 24
        }
      ],
      "metadata": {
        "id": "_L4HQmUddfgG",
        "colab": {
          "base_uri": "https://localhost:8080/"
        },
        "outputId": "d3bd23ff-2406-4585-80b3-3c3544e9bba2"
      }
    },
    {
      "cell_type": "code",
      "execution_count": 25,
      "source": [
        "bot(['whats their pricerange again?'])"
      ],
      "outputs": [
        {
          "output_type": "execute_result",
          "data": {
            "text/plain": [
              "[['The price range at meghna is moderate.']]"
            ]
          },
          "metadata": {
            "tags": []
          },
          "execution_count": 25
        }
      ],
      "metadata": {
        "colab": {
          "base_uri": "https://localhost:8080/"
        },
        "id": "zozKOeOBUp0l",
        "outputId": "cab32f7c-8948-45a1-e013-217e125ff2e7"
      }
    },
    {
      "cell_type": "code",
      "execution_count": 26,
      "source": [
        "bot(['Alright sounds good, thank you!'])"
      ],
      "outputs": [
        {
          "output_type": "execute_result",
          "data": {
            "text/plain": [
              "[['You are welcome!']]"
            ]
          },
          "metadata": {
            "tags": []
          },
          "execution_count": 26
        }
      ],
      "metadata": {
        "colab": {
          "base_uri": "https://localhost:8080/"
        },
        "id": "rlL85uyNUpmn",
        "outputId": "6189a425-ca71-4376-9c4a-f771793f6854"
      }
    },
    {
      "cell_type": "markdown",
      "source": [
        "## 5. Integrate Google Maps API into Bot\r\n",
        "\r\n",
        "In this part we show how you can add any external API to your Go-bot. To make use of the same training data, we will query Google Maps for restaurants instead of the Database we set up.\r\n",
        "\r\n",
        "If you want to try it out yourself, you need to get a Google Maps Places API Key here: https://developers.google.com/maps/documentation/places/web-service/get-api-key\r\n",
        "\r\n",
        "Make sure to paste the API Key at the designated place in the make_api_call function."
      ],
      "metadata": {
        "id": "DH1KPe1fQMfE"
      }
    },
    {
      "cell_type": "markdown",
      "source": [
        "First we define the **make_api_call** function, which is responsible for implementing the logic to call the API. The **fill_current_state_with_db_results** is responsible for filling the models Dialogue State with the results from the make_api_call function.\r\n",
        "\r\n",
        "Via self.XXX, both functions can access all attributes of TripPy."
      ],
      "metadata": {
        "id": "clkDwKi9Q8UZ"
      }
    },
    {
      "cell_type": "code",
      "execution_count": 31,
      "source": [
        "import requests\r\n",
        "\r\n",
        "def make_api_call(self) -> None:\r\n",
        "\r\n",
        "    # Definitions\r\n",
        "    url = \"https://maps.googleapis.com/maps/api/place/textsearch/json?\"\r\n",
        "\r\n",
        "    # Pase your Google Maps API Key with access to the Places API here:\r\n",
        "    api_key = \"YOUR_API_KEY\"\r\n",
        "    # Alternatively paste your key in a .txt file and just read it\r\n",
        "    with open('/content/gapikey.txt', 'r') as f:\r\n",
        "        api_key = f.read()\r\n",
        "\r\n",
        "    # Google Maps returns a number, but our dataset works with textual descriptions of price\r\n",
        "    price_map = {\r\n",
        "        \"cheap\": (\"0\",\"2\"),\r\n",
        "        \"moderate\": (\"2\",\"4\"),\r\n",
        "        \"expensive\": (\"3\",\"5\"),\r\n",
        "        \"dontcare\": (\"0\",\"5\")\r\n",
        "    }\r\n",
        "\r\n",
        "    # Format the URL query\r\n",
        "    # Make query e.g. \"japanese food\"\r\n",
        "    query = self.ds.get(\"food\", \"any\") + \" food\"\r\n",
        "    minprice, maxprice = price_map.get(self.ds.get(\"pricerange\", \"dontcare\"))\r\n",
        "\r\n",
        "    # Send & get results\r\n",
        "    r = requests.get(url + 'query=' + query +\r\n",
        "                        '&minprice=' + minprice +\r\n",
        "                        '&maxprice=' + maxprice +\r\n",
        "                        '&type=restaurant' +\r\n",
        "                        '&key=' + api_key)\r\n",
        "    \r\n",
        "    result = r.json()[\"results\"][0]\r\n",
        "    # Add food to the result, as not returned by Google\r\n",
        "    result[\"food\"] = query.split(\" \")[0]\r\n",
        "    self.db_result = result\r\n",
        "\r\n",
        "def fill_current_state_with_db_results(self) -> None:\r\n",
        "\r\n",
        "    if self.db_result:\r\n",
        "        inv_price_map = {\r\n",
        "        \"0\": \"cheap\",\r\n",
        "        \"1\": \"cheap\",\r\n",
        "        \"2\": \"moderate\",\r\n",
        "        \"3\": \"moderate\",\r\n",
        "        \"4\": \"expensive\",\r\n",
        "        \"5\": \"expensive\",\r\n",
        "        }\r\n",
        "\r\n",
        "        # In training data:\r\n",
        "        #'db_result': {   'addr': 'regent street city centre',\r\n",
        "        #                     'area': 'centre',\r\n",
        "        #                     'food': 'italian',\r\n",
        "        #                     'name': 'pizza hut city centre',\r\n",
        "        #                     'phone': '01223 323737',\r\n",
        "        #                     'pricerange': 'cheap'},\r\n",
        "\r\n",
        "        self.ds[\"addr\"] = self.db_result[\"formatted_address\"]\r\n",
        "        self.ds[\"food\"] = self.db_result[\"food\"]\r\n",
        "        self.ds[\"name\"] = self.db_result[\"name\"]\r\n",
        "        self.ds[\"pricerange\"] = inv_price_map.get(self.db_result[\"price_level\"], \"moderate\")\r\n",
        "\r\n",
        "        # Additionally you could geo-decode the geometry paramter to get an area\r\n",
        "        # & to get the phone number we'd have to do another API req, see\r\n",
        "        # https://stackoverflow.com/questions/46752928/how-to-get-the-phonenumber-using-google-places-api"
      ],
      "outputs": [],
      "metadata": {
        "id": "eTbl8ScZQRpA"
      }
    },
    {
      "cell_type": "code",
      "execution_count": 32,
      "source": [
        "# Add the functions to the config\r\n",
        "gobot_config['chainer']['pipe'][-1]['make_api_call'] = make_api_call\r\n",
        "gobot_config['chainer']['pipe'][-1]['fill_current_state_with_db_results'] = fill_current_state_with_db_results"
      ],
      "outputs": [],
      "metadata": {
        "id": "ha_SYmIhQRkz"
      }
    },
    {
      "cell_type": "code",
      "execution_count": 33,
      "source": [
        "from deeppavlov import build_model\r\n",
        "bot = build_model(gobot_config)"
      ],
      "outputs": [
        {
          "output_type": "stream",
          "name": "stderr",
          "text": [
            "2021-08-04 18:20:04.380 WARNING in 'deeppavlov.core.models.serializable'['serializable'] at line 49: No load path is set for Sqlite3Database in 'infer' mode. Using save path instead\n",
            "2021-08-04 18:20:04.383 INFO in 'deeppavlov.core.data.sqlite_database'['sqlite_database'] at line 66: Loading database from /content/DeepPavlov/my_bot/db.sqlite.\n",
            "2021-08-04 18:20:08.691 INFO in 'deeppavlov.models.go_bot.trippy'['trippy'] at line 159: Load path /content/DeepPavlov/my_bot/model is given.\n",
            "2021-08-04 18:20:08.693 INFO in 'deeppavlov.models.go_bot.trippy'['trippy'] at line 166: Load path /content/DeepPavlov/my_bot/model.pth.tar exists.\n",
            "2021-08-04 18:20:08.696 INFO in 'deeppavlov.models.go_bot.trippy'['trippy'] at line 167: Initializing `TripPy` from saved.\n",
            "2021-08-04 18:20:08.699 INFO in 'deeppavlov.models.go_bot.trippy'['trippy'] at line 170: Loading weights from /content/DeepPavlov/my_bot/model.pth.tar.\n",
            "2021-08-04 18:20:09.462 INFO in 'deeppavlov.core.models.torch_model'['torch_model'] at line 98: Model was successfully initialized! Model summary:\n",
            " BertForDST(\n",
            "  (bert): BertModel(\n",
            "    (embeddings): BertEmbeddings(\n",
            "      (word_embeddings): Embedding(30522, 768, padding_idx=0)\n",
            "      (position_embeddings): Embedding(512, 768)\n",
            "      (token_type_embeddings): Embedding(2, 768)\n",
            "      (LayerNorm): LayerNorm((768,), eps=1e-12, elementwise_affine=True)\n",
            "      (dropout): Dropout(p=0.1, inplace=False)\n",
            "    )\n",
            "    (encoder): BertEncoder(\n",
            "      (layer): ModuleList(\n",
            "        (0): BertLayer(\n",
            "          (attention): BertAttention(\n",
            "            (self): BertSelfAttention(\n",
            "              (query): Linear(in_features=768, out_features=768, bias=True)\n",
            "              (key): Linear(in_features=768, out_features=768, bias=True)\n",
            "              (value): Linear(in_features=768, out_features=768, bias=True)\n",
            "              (dropout): Dropout(p=0.1, inplace=False)\n",
            "            )\n",
            "            (output): BertSelfOutput(\n",
            "              (dense): Linear(in_features=768, out_features=768, bias=True)\n",
            "              (LayerNorm): LayerNorm((768,), eps=1e-12, elementwise_affine=True)\n",
            "              (dropout): Dropout(p=0.1, inplace=False)\n",
            "            )\n",
            "          )\n",
            "          (intermediate): BertIntermediate(\n",
            "            (dense): Linear(in_features=768, out_features=3072, bias=True)\n",
            "          )\n",
            "          (output): BertOutput(\n",
            "            (dense): Linear(in_features=3072, out_features=768, bias=True)\n",
            "            (LayerNorm): LayerNorm((768,), eps=1e-12, elementwise_affine=True)\n",
            "            (dropout): Dropout(p=0.1, inplace=False)\n",
            "          )\n",
            "        )\n",
            "        (1): BertLayer(\n",
            "          (attention): BertAttention(\n",
            "            (self): BertSelfAttention(\n",
            "              (query): Linear(in_features=768, out_features=768, bias=True)\n",
            "              (key): Linear(in_features=768, out_features=768, bias=True)\n",
            "              (value): Linear(in_features=768, out_features=768, bias=True)\n",
            "              (dropout): Dropout(p=0.1, inplace=False)\n",
            "            )\n",
            "            (output): BertSelfOutput(\n",
            "              (dense): Linear(in_features=768, out_features=768, bias=True)\n",
            "              (LayerNorm): LayerNorm((768,), eps=1e-12, elementwise_affine=True)\n",
            "              (dropout): Dropout(p=0.1, inplace=False)\n",
            "            )\n",
            "          )\n",
            "          (intermediate): BertIntermediate(\n",
            "            (dense): Linear(in_features=768, out_features=3072, bias=True)\n",
            "          )\n",
            "          (output): BertOutput(\n",
            "            (dense): Linear(in_features=3072, out_features=768, bias=True)\n",
            "            (LayerNorm): LayerNorm((768,), eps=1e-12, elementwise_affine=True)\n",
            "            (dropout): Dropout(p=0.1, inplace=False)\n",
            "          )\n",
            "        )\n",
            "        (2): BertLayer(\n",
            "          (attention): BertAttention(\n",
            "            (self): BertSelfAttention(\n",
            "              (query): Linear(in_features=768, out_features=768, bias=True)\n",
            "              (key): Linear(in_features=768, out_features=768, bias=True)\n",
            "              (value): Linear(in_features=768, out_features=768, bias=True)\n",
            "              (dropout): Dropout(p=0.1, inplace=False)\n",
            "            )\n",
            "            (output): BertSelfOutput(\n",
            "              (dense): Linear(in_features=768, out_features=768, bias=True)\n",
            "              (LayerNorm): LayerNorm((768,), eps=1e-12, elementwise_affine=True)\n",
            "              (dropout): Dropout(p=0.1, inplace=False)\n",
            "            )\n",
            "          )\n",
            "          (intermediate): BertIntermediate(\n",
            "            (dense): Linear(in_features=768, out_features=3072, bias=True)\n",
            "          )\n",
            "          (output): BertOutput(\n",
            "            (dense): Linear(in_features=3072, out_features=768, bias=True)\n",
            "            (LayerNorm): LayerNorm((768,), eps=1e-12, elementwise_affine=True)\n",
            "            (dropout): Dropout(p=0.1, inplace=False)\n",
            "          )\n",
            "        )\n",
            "        (3): BertLayer(\n",
            "          (attention): BertAttention(\n",
            "            (self): BertSelfAttention(\n",
            "              (query): Linear(in_features=768, out_features=768, bias=True)\n",
            "              (key): Linear(in_features=768, out_features=768, bias=True)\n",
            "              (value): Linear(in_features=768, out_features=768, bias=True)\n",
            "              (dropout): Dropout(p=0.1, inplace=False)\n",
            "            )\n",
            "            (output): BertSelfOutput(\n",
            "              (dense): Linear(in_features=768, out_features=768, bias=True)\n",
            "              (LayerNorm): LayerNorm((768,), eps=1e-12, elementwise_affine=True)\n",
            "              (dropout): Dropout(p=0.1, inplace=False)\n",
            "            )\n",
            "          )\n",
            "          (intermediate): BertIntermediate(\n",
            "            (dense): Linear(in_features=768, out_features=3072, bias=True)\n",
            "          )\n",
            "          (output): BertOutput(\n",
            "            (dense): Linear(in_features=3072, out_features=768, bias=True)\n",
            "            (LayerNorm): LayerNorm((768,), eps=1e-12, elementwise_affine=True)\n",
            "            (dropout): Dropout(p=0.1, inplace=False)\n",
            "          )\n",
            "        )\n",
            "        (4): BertLayer(\n",
            "          (attention): BertAttention(\n",
            "            (self): BertSelfAttention(\n",
            "              (query): Linear(in_features=768, out_features=768, bias=True)\n",
            "              (key): Linear(in_features=768, out_features=768, bias=True)\n",
            "              (value): Linear(in_features=768, out_features=768, bias=True)\n",
            "              (dropout): Dropout(p=0.1, inplace=False)\n",
            "            )\n",
            "            (output): BertSelfOutput(\n",
            "              (dense): Linear(in_features=768, out_features=768, bias=True)\n",
            "              (LayerNorm): LayerNorm((768,), eps=1e-12, elementwise_affine=True)\n",
            "              (dropout): Dropout(p=0.1, inplace=False)\n",
            "            )\n",
            "          )\n",
            "          (intermediate): BertIntermediate(\n",
            "            (dense): Linear(in_features=768, out_features=3072, bias=True)\n",
            "          )\n",
            "          (output): BertOutput(\n",
            "            (dense): Linear(in_features=3072, out_features=768, bias=True)\n",
            "            (LayerNorm): LayerNorm((768,), eps=1e-12, elementwise_affine=True)\n",
            "            (dropout): Dropout(p=0.1, inplace=False)\n",
            "          )\n",
            "        )\n",
            "        (5): BertLayer(\n",
            "          (attention): BertAttention(\n",
            "            (self): BertSelfAttention(\n",
            "              (query): Linear(in_features=768, out_features=768, bias=True)\n",
            "              (key): Linear(in_features=768, out_features=768, bias=True)\n",
            "              (value): Linear(in_features=768, out_features=768, bias=True)\n",
            "              (dropout): Dropout(p=0.1, inplace=False)\n",
            "            )\n",
            "            (output): BertSelfOutput(\n",
            "              (dense): Linear(in_features=768, out_features=768, bias=True)\n",
            "              (LayerNorm): LayerNorm((768,), eps=1e-12, elementwise_affine=True)\n",
            "              (dropout): Dropout(p=0.1, inplace=False)\n",
            "            )\n",
            "          )\n",
            "          (intermediate): BertIntermediate(\n",
            "            (dense): Linear(in_features=768, out_features=3072, bias=True)\n",
            "          )\n",
            "          (output): BertOutput(\n",
            "            (dense): Linear(in_features=3072, out_features=768, bias=True)\n",
            "            (LayerNorm): LayerNorm((768,), eps=1e-12, elementwise_affine=True)\n",
            "            (dropout): Dropout(p=0.1, inplace=False)\n",
            "          )\n",
            "        )\n",
            "        (6): BertLayer(\n",
            "          (attention): BertAttention(\n",
            "            (self): BertSelfAttention(\n",
            "              (query): Linear(in_features=768, out_features=768, bias=True)\n",
            "              (key): Linear(in_features=768, out_features=768, bias=True)\n",
            "              (value): Linear(in_features=768, out_features=768, bias=True)\n",
            "              (dropout): Dropout(p=0.1, inplace=False)\n",
            "            )\n",
            "            (output): BertSelfOutput(\n",
            "              (dense): Linear(in_features=768, out_features=768, bias=True)\n",
            "              (LayerNorm): LayerNorm((768,), eps=1e-12, elementwise_affine=True)\n",
            "              (dropout): Dropout(p=0.1, inplace=False)\n",
            "            )\n",
            "          )\n",
            "          (intermediate): BertIntermediate(\n",
            "            (dense): Linear(in_features=768, out_features=3072, bias=True)\n",
            "          )\n",
            "          (output): BertOutput(\n",
            "            (dense): Linear(in_features=3072, out_features=768, bias=True)\n",
            "            (LayerNorm): LayerNorm((768,), eps=1e-12, elementwise_affine=True)\n",
            "            (dropout): Dropout(p=0.1, inplace=False)\n",
            "          )\n",
            "        )\n",
            "        (7): BertLayer(\n",
            "          (attention): BertAttention(\n",
            "            (self): BertSelfAttention(\n",
            "              (query): Linear(in_features=768, out_features=768, bias=True)\n",
            "              (key): Linear(in_features=768, out_features=768, bias=True)\n",
            "              (value): Linear(in_features=768, out_features=768, bias=True)\n",
            "              (dropout): Dropout(p=0.1, inplace=False)\n",
            "            )\n",
            "            (output): BertSelfOutput(\n",
            "              (dense): Linear(in_features=768, out_features=768, bias=True)\n",
            "              (LayerNorm): LayerNorm((768,), eps=1e-12, elementwise_affine=True)\n",
            "              (dropout): Dropout(p=0.1, inplace=False)\n",
            "            )\n",
            "          )\n",
            "          (intermediate): BertIntermediate(\n",
            "            (dense): Linear(in_features=768, out_features=3072, bias=True)\n",
            "          )\n",
            "          (output): BertOutput(\n",
            "            (dense): Linear(in_features=3072, out_features=768, bias=True)\n",
            "            (LayerNorm): LayerNorm((768,), eps=1e-12, elementwise_affine=True)\n",
            "            (dropout): Dropout(p=0.1, inplace=False)\n",
            "          )\n",
            "        )\n",
            "        (8): BertLayer(\n",
            "          (attention): BertAttention(\n",
            "            (self): BertSelfAttention(\n",
            "              (query): Linear(in_features=768, out_features=768, bias=True)\n",
            "              (key): Linear(in_features=768, out_features=768, bias=True)\n",
            "              (value): Linear(in_features=768, out_features=768, bias=True)\n",
            "              (dropout): Dropout(p=0.1, inplace=False)\n",
            "            )\n",
            "            (output): BertSelfOutput(\n",
            "              (dense): Linear(in_features=768, out_features=768, bias=True)\n",
            "              (LayerNorm): LayerNorm((768,), eps=1e-12, elementwise_affine=True)\n",
            "              (dropout): Dropout(p=0.1, inplace=False)\n",
            "            )\n",
            "          )\n",
            "          (intermediate): BertIntermediate(\n",
            "            (dense): Linear(in_features=768, out_features=3072, bias=True)\n",
            "          )\n",
            "          (output): BertOutput(\n",
            "            (dense): Linear(in_features=3072, out_features=768, bias=True)\n",
            "            (LayerNorm): LayerNorm((768,), eps=1e-12, elementwise_affine=True)\n",
            "            (dropout): Dropout(p=0.1, inplace=False)\n",
            "          )\n",
            "        )\n",
            "        (9): BertLayer(\n",
            "          (attention): BertAttention(\n",
            "            (self): BertSelfAttention(\n",
            "              (query): Linear(in_features=768, out_features=768, bias=True)\n",
            "              (key): Linear(in_features=768, out_features=768, bias=True)\n",
            "              (value): Linear(in_features=768, out_features=768, bias=True)\n",
            "              (dropout): Dropout(p=0.1, inplace=False)\n",
            "            )\n",
            "            (output): BertSelfOutput(\n",
            "              (dense): Linear(in_features=768, out_features=768, bias=True)\n",
            "              (LayerNorm): LayerNorm((768,), eps=1e-12, elementwise_affine=True)\n",
            "              (dropout): Dropout(p=0.1, inplace=False)\n",
            "            )\n",
            "          )\n",
            "          (intermediate): BertIntermediate(\n",
            "            (dense): Linear(in_features=768, out_features=3072, bias=True)\n",
            "          )\n",
            "          (output): BertOutput(\n",
            "            (dense): Linear(in_features=3072, out_features=768, bias=True)\n",
            "            (LayerNorm): LayerNorm((768,), eps=1e-12, elementwise_affine=True)\n",
            "            (dropout): Dropout(p=0.1, inplace=False)\n",
            "          )\n",
            "        )\n",
            "        (10): BertLayer(\n",
            "          (attention): BertAttention(\n",
            "            (self): BertSelfAttention(\n",
            "              (query): Linear(in_features=768, out_features=768, bias=True)\n",
            "              (key): Linear(in_features=768, out_features=768, bias=True)\n",
            "              (value): Linear(in_features=768, out_features=768, bias=True)\n",
            "              (dropout): Dropout(p=0.1, inplace=False)\n",
            "            )\n",
            "            (output): BertSelfOutput(\n",
            "              (dense): Linear(in_features=768, out_features=768, bias=True)\n",
            "              (LayerNorm): LayerNorm((768,), eps=1e-12, elementwise_affine=True)\n",
            "              (dropout): Dropout(p=0.1, inplace=False)\n",
            "            )\n",
            "          )\n",
            "          (intermediate): BertIntermediate(\n",
            "            (dense): Linear(in_features=768, out_features=3072, bias=True)\n",
            "          )\n",
            "          (output): BertOutput(\n",
            "            (dense): Linear(in_features=3072, out_features=768, bias=True)\n",
            "            (LayerNorm): LayerNorm((768,), eps=1e-12, elementwise_affine=True)\n",
            "            (dropout): Dropout(p=0.1, inplace=False)\n",
            "          )\n",
            "        )\n",
            "        (11): BertLayer(\n",
            "          (attention): BertAttention(\n",
            "            (self): BertSelfAttention(\n",
            "              (query): Linear(in_features=768, out_features=768, bias=True)\n",
            "              (key): Linear(in_features=768, out_features=768, bias=True)\n",
            "              (value): Linear(in_features=768, out_features=768, bias=True)\n",
            "              (dropout): Dropout(p=0.1, inplace=False)\n",
            "            )\n",
            "            (output): BertSelfOutput(\n",
            "              (dense): Linear(in_features=768, out_features=768, bias=True)\n",
            "              (LayerNorm): LayerNorm((768,), eps=1e-12, elementwise_affine=True)\n",
            "              (dropout): Dropout(p=0.1, inplace=False)\n",
            "            )\n",
            "          )\n",
            "          (intermediate): BertIntermediate(\n",
            "            (dense): Linear(in_features=768, out_features=3072, bias=True)\n",
            "          )\n",
            "          (output): BertOutput(\n",
            "            (dense): Linear(in_features=3072, out_features=768, bias=True)\n",
            "            (LayerNorm): LayerNorm((768,), eps=1e-12, elementwise_affine=True)\n",
            "            (dropout): Dropout(p=0.1, inplace=False)\n",
            "          )\n",
            "        )\n",
            "      )\n",
            "    )\n",
            "    (pooler): BertPooler(\n",
            "      (dense): Linear(in_features=768, out_features=768, bias=True)\n",
            "      (activation): Tanh()\n",
            "    )\n",
            "  )\n",
            "  (dropout): Dropout(p=0.3, inplace=False)\n",
            "  (dropout_heads): Dropout(p=0.0, inplace=False)\n",
            "  (inform_projection): Linear(in_features=4, out_features=4, bias=True)\n",
            "  (ds_projection): Linear(in_features=4, out_features=4, bias=True)\n",
            "  (class_pricerange): Linear(in_features=776, out_features=4, bias=True)\n",
            "  (token_pricerange): Linear(in_features=768, out_features=2, bias=True)\n",
            "  (refer_pricerange): Linear(in_features=776, out_features=5, bias=True)\n",
            "  (class_this): Linear(in_features=776, out_features=4, bias=True)\n",
            "  (token_this): Linear(in_features=768, out_features=2, bias=True)\n",
            "  (refer_this): Linear(in_features=776, out_features=5, bias=True)\n",
            "  (class_area): Linear(in_features=776, out_features=4, bias=True)\n",
            "  (token_area): Linear(in_features=768, out_features=2, bias=True)\n",
            "  (refer_area): Linear(in_features=776, out_features=5, bias=True)\n",
            "  (class_food): Linear(in_features=776, out_features=4, bias=True)\n",
            "  (token_food): Linear(in_features=768, out_features=2, bias=True)\n",
            "  (refer_food): Linear(in_features=776, out_features=5, bias=True)\n",
            "  (action_prediction): Linear(in_features=776, out_features=46, bias=True)\n",
            "  (action_softmax): Softmax(dim=1)\n",
            ")\n"
          ]
        }
      ],
      "metadata": {
        "colab": {
          "base_uri": "https://localhost:8080/"
        },
        "id": "VmL_NlLWQRh-",
        "outputId": "d61a7926-5988-416f-8dde-f111cbcde9a9"
      }
    },
    {
      "cell_type": "code",
      "execution_count": 29,
      "source": [
        "bot.reset()\r\n",
        "bot(['hi, i want to eat, can you suggest a place to go?'])"
      ],
      "outputs": [
        {
          "output_type": "execute_result",
          "data": {
            "text/plain": [
              "[['What kind of food would you like?']]"
            ]
          },
          "metadata": {
            "tags": []
          },
          "execution_count": 29
        }
      ],
      "metadata": {
        "colab": {
          "base_uri": "https://localhost:8080/"
        },
        "id": "aB4XwNCaSf1o",
        "outputId": "0c39cf60-f129-49eb-819d-de1e63e78da7"
      }
    },
    {
      "cell_type": "code",
      "execution_count": 30,
      "source": [
        "bot(['Hmmmm i want chinese food'])"
      ],
      "outputs": [
        {
          "output_type": "execute_result",
          "data": {
            "text/plain": [
              "[['api_call area=\"dontcare\" food=\"chinese\" pricerange=\"dontcare\"',\n",
              "  'Great China Restaurant serves chinese food.']]"
            ]
          },
          "metadata": {
            "tags": []
          },
          "execution_count": 30
        }
      ],
      "metadata": {
        "colab": {
          "base_uri": "https://localhost:8080/"
        },
        "id": "HPxyrMImSlha",
        "outputId": "1bf63718-bc1b-4af2-a448-79fcef17d163"
      }
    },
    {
      "cell_type": "code",
      "execution_count": 31,
      "source": [
        "bot(['Whats their address?'])\r\n",
        "# Try look up the address online! You'll find it on GMaps =)"
      ],
      "outputs": [
        {
          "output_type": "execute_result",
          "data": {
            "text/plain": [
              "[['Sure, Great China Restaurant is on 2001 W Main St, Independence, KS 67301, United States.']]"
            ]
          },
          "metadata": {
            "tags": []
          },
          "execution_count": 31
        }
      ],
      "metadata": {
        "colab": {
          "base_uri": "https://localhost:8080/"
        },
        "id": "zGX4ZYQjSrTP",
        "outputId": "507a2fc7-0322-4a5b-a9d3-634c1021e7d1"
      }
    },
    {
      "cell_type": "code",
      "execution_count": 32,
      "source": [
        "bot(['And their pricerange?'])"
      ],
      "outputs": [
        {
          "output_type": "execute_result",
          "data": {
            "text/plain": [
              "[['The price range at Great China Restaurant is moderate.']]"
            ]
          },
          "metadata": {
            "tags": []
          },
          "execution_count": 32
        }
      ],
      "metadata": {
        "colab": {
          "base_uri": "https://localhost:8080/"
        },
        "id": "CR3qdbVzS4kn",
        "outputId": "392330ff-5c80-434d-97f9-b6a409f185c5"
      }
    },
    {
      "cell_type": "code",
      "execution_count": 33,
      "source": [
        "bot(['What food do they serve again?'])"
      ],
      "outputs": [
        {
          "output_type": "execute_result",
          "data": {
            "text/plain": [
              "[['Great China Restaurant serves chinese food.']]"
            ]
          },
          "metadata": {
            "tags": []
          },
          "execution_count": 33
        }
      ],
      "metadata": {
        "colab": {
          "base_uri": "https://localhost:8080/"
        },
        "id": "ufKqugJVS8pu",
        "outputId": "4c24ed8c-4378-48c9-9ad6-88b241dd4a79"
      }
    },
    {
      "cell_type": "code",
      "execution_count": 34,
      "source": [
        "bot(['Okay, thanks bye!'])"
      ],
      "outputs": [
        {
          "output_type": "execute_result",
          "data": {
            "text/plain": [
              "[['You are welcome!']]"
            ]
          },
          "metadata": {
            "tags": []
          },
          "execution_count": 34
        }
      ],
      "metadata": {
        "colab": {
          "base_uri": "https://localhost:8080/"
        },
        "id": "tzaZBc00TATi",
        "outputId": "7b593755-5180-4927-92f9-c5d068401003"
      }
    },
    {
      "cell_type": "markdown",
      "source": [
        "## 6. Interact with Bot on Telegram\r\n",
        "\r\n",
        "DeepPavlov allows us to quickly deploy a model to Telegram. Note that the model must be continously running in the Notebook for users to be able to interact with it on Telegram. If you want to try it out yourself, you will need to create a Telegram bot and get a token via: https://developers.google.com/maps/documentation/places/web-service/get-api-key (~4min)"
      ],
      "metadata": {
        "id": "YdMfO4o0QnK2"
      }
    },
    {
      "cell_type": "code",
      "execution_count": 39,
      "source": [
        "bot.reset()"
      ],
      "outputs": [],
      "metadata": {
        "id": "IGIUxe3oZXyw"
      }
    },
    {
      "cell_type": "code",
      "execution_count": 40,
      "source": [
        "from deeppavlov.utils.telegram import interact_model_by_telegram\r\n",
        "\r\n",
        "telegram_token = \"YOUR_TELEGRAM_TOKEN_HERE\"\r\n",
        "\r\n",
        "interact_model_by_telegram(model_config=gobot_config, token=telegram_token)"
      ],
      "outputs": [
        {
          "output_type": "stream",
          "name": "stderr",
          "text": [
            "2021-08-04 18:21:57.276 WARNING in 'deeppavlov.core.models.serializable'['serializable'] at line 49: No load path is set for Sqlite3Database in 'infer' mode. Using save path instead\n",
            "2021-08-04 18:21:57.282 INFO in 'deeppavlov.core.data.sqlite_database'['sqlite_database'] at line 66: Loading database from /content/DeepPavlov/my_bot/db.sqlite.\n",
            "2021-08-04 18:22:01.282 INFO in 'deeppavlov.models.go_bot.trippy'['trippy'] at line 159: Load path /content/DeepPavlov/my_bot/model is given.\n",
            "2021-08-04 18:22:01.284 INFO in 'deeppavlov.models.go_bot.trippy'['trippy'] at line 166: Load path /content/DeepPavlov/my_bot/model.pth.tar exists.\n",
            "2021-08-04 18:22:01.289 INFO in 'deeppavlov.models.go_bot.trippy'['trippy'] at line 167: Initializing `TripPy` from saved.\n",
            "2021-08-04 18:22:01.293 INFO in 'deeppavlov.models.go_bot.trippy'['trippy'] at line 170: Loading weights from /content/DeepPavlov/my_bot/model.pth.tar.\n",
            "2021-08-04 18:22:02.126 INFO in 'deeppavlov.core.models.torch_model'['torch_model'] at line 98: Model was successfully initialized! Model summary:\n",
            " BertForDST(\n",
            "  (bert): BertModel(\n",
            "    (embeddings): BertEmbeddings(\n",
            "      (word_embeddings): Embedding(30522, 768, padding_idx=0)\n",
            "      (position_embeddings): Embedding(512, 768)\n",
            "      (token_type_embeddings): Embedding(2, 768)\n",
            "      (LayerNorm): LayerNorm((768,), eps=1e-12, elementwise_affine=True)\n",
            "      (dropout): Dropout(p=0.1, inplace=False)\n",
            "    )\n",
            "    (encoder): BertEncoder(\n",
            "      (layer): ModuleList(\n",
            "        (0): BertLayer(\n",
            "          (attention): BertAttention(\n",
            "            (self): BertSelfAttention(\n",
            "              (query): Linear(in_features=768, out_features=768, bias=True)\n",
            "              (key): Linear(in_features=768, out_features=768, bias=True)\n",
            "              (value): Linear(in_features=768, out_features=768, bias=True)\n",
            "              (dropout): Dropout(p=0.1, inplace=False)\n",
            "            )\n",
            "            (output): BertSelfOutput(\n",
            "              (dense): Linear(in_features=768, out_features=768, bias=True)\n",
            "              (LayerNorm): LayerNorm((768,), eps=1e-12, elementwise_affine=True)\n",
            "              (dropout): Dropout(p=0.1, inplace=False)\n",
            "            )\n",
            "          )\n",
            "          (intermediate): BertIntermediate(\n",
            "            (dense): Linear(in_features=768, out_features=3072, bias=True)\n",
            "          )\n",
            "          (output): BertOutput(\n",
            "            (dense): Linear(in_features=3072, out_features=768, bias=True)\n",
            "            (LayerNorm): LayerNorm((768,), eps=1e-12, elementwise_affine=True)\n",
            "            (dropout): Dropout(p=0.1, inplace=False)\n",
            "          )\n",
            "        )\n",
            "        (1): BertLayer(\n",
            "          (attention): BertAttention(\n",
            "            (self): BertSelfAttention(\n",
            "              (query): Linear(in_features=768, out_features=768, bias=True)\n",
            "              (key): Linear(in_features=768, out_features=768, bias=True)\n",
            "              (value): Linear(in_features=768, out_features=768, bias=True)\n",
            "              (dropout): Dropout(p=0.1, inplace=False)\n",
            "            )\n",
            "            (output): BertSelfOutput(\n",
            "              (dense): Linear(in_features=768, out_features=768, bias=True)\n",
            "              (LayerNorm): LayerNorm((768,), eps=1e-12, elementwise_affine=True)\n",
            "              (dropout): Dropout(p=0.1, inplace=False)\n",
            "            )\n",
            "          )\n",
            "          (intermediate): BertIntermediate(\n",
            "            (dense): Linear(in_features=768, out_features=3072, bias=True)\n",
            "          )\n",
            "          (output): BertOutput(\n",
            "            (dense): Linear(in_features=3072, out_features=768, bias=True)\n",
            "            (LayerNorm): LayerNorm((768,), eps=1e-12, elementwise_affine=True)\n",
            "            (dropout): Dropout(p=0.1, inplace=False)\n",
            "          )\n",
            "        )\n",
            "        (2): BertLayer(\n",
            "          (attention): BertAttention(\n",
            "            (self): BertSelfAttention(\n",
            "              (query): Linear(in_features=768, out_features=768, bias=True)\n",
            "              (key): Linear(in_features=768, out_features=768, bias=True)\n",
            "              (value): Linear(in_features=768, out_features=768, bias=True)\n",
            "              (dropout): Dropout(p=0.1, inplace=False)\n",
            "            )\n",
            "            (output): BertSelfOutput(\n",
            "              (dense): Linear(in_features=768, out_features=768, bias=True)\n",
            "              (LayerNorm): LayerNorm((768,), eps=1e-12, elementwise_affine=True)\n",
            "              (dropout): Dropout(p=0.1, inplace=False)\n",
            "            )\n",
            "          )\n",
            "          (intermediate): BertIntermediate(\n",
            "            (dense): Linear(in_features=768, out_features=3072, bias=True)\n",
            "          )\n",
            "          (output): BertOutput(\n",
            "            (dense): Linear(in_features=3072, out_features=768, bias=True)\n",
            "            (LayerNorm): LayerNorm((768,), eps=1e-12, elementwise_affine=True)\n",
            "            (dropout): Dropout(p=0.1, inplace=False)\n",
            "          )\n",
            "        )\n",
            "        (3): BertLayer(\n",
            "          (attention): BertAttention(\n",
            "            (self): BertSelfAttention(\n",
            "              (query): Linear(in_features=768, out_features=768, bias=True)\n",
            "              (key): Linear(in_features=768, out_features=768, bias=True)\n",
            "              (value): Linear(in_features=768, out_features=768, bias=True)\n",
            "              (dropout): Dropout(p=0.1, inplace=False)\n",
            "            )\n",
            "            (output): BertSelfOutput(\n",
            "              (dense): Linear(in_features=768, out_features=768, bias=True)\n",
            "              (LayerNorm): LayerNorm((768,), eps=1e-12, elementwise_affine=True)\n",
            "              (dropout): Dropout(p=0.1, inplace=False)\n",
            "            )\n",
            "          )\n",
            "          (intermediate): BertIntermediate(\n",
            "            (dense): Linear(in_features=768, out_features=3072, bias=True)\n",
            "          )\n",
            "          (output): BertOutput(\n",
            "            (dense): Linear(in_features=3072, out_features=768, bias=True)\n",
            "            (LayerNorm): LayerNorm((768,), eps=1e-12, elementwise_affine=True)\n",
            "            (dropout): Dropout(p=0.1, inplace=False)\n",
            "          )\n",
            "        )\n",
            "        (4): BertLayer(\n",
            "          (attention): BertAttention(\n",
            "            (self): BertSelfAttention(\n",
            "              (query): Linear(in_features=768, out_features=768, bias=True)\n",
            "              (key): Linear(in_features=768, out_features=768, bias=True)\n",
            "              (value): Linear(in_features=768, out_features=768, bias=True)\n",
            "              (dropout): Dropout(p=0.1, inplace=False)\n",
            "            )\n",
            "            (output): BertSelfOutput(\n",
            "              (dense): Linear(in_features=768, out_features=768, bias=True)\n",
            "              (LayerNorm): LayerNorm((768,), eps=1e-12, elementwise_affine=True)\n",
            "              (dropout): Dropout(p=0.1, inplace=False)\n",
            "            )\n",
            "          )\n",
            "          (intermediate): BertIntermediate(\n",
            "            (dense): Linear(in_features=768, out_features=3072, bias=True)\n",
            "          )\n",
            "          (output): BertOutput(\n",
            "            (dense): Linear(in_features=3072, out_features=768, bias=True)\n",
            "            (LayerNorm): LayerNorm((768,), eps=1e-12, elementwise_affine=True)\n",
            "            (dropout): Dropout(p=0.1, inplace=False)\n",
            "          )\n",
            "        )\n",
            "        (5): BertLayer(\n",
            "          (attention): BertAttention(\n",
            "            (self): BertSelfAttention(\n",
            "              (query): Linear(in_features=768, out_features=768, bias=True)\n",
            "              (key): Linear(in_features=768, out_features=768, bias=True)\n",
            "              (value): Linear(in_features=768, out_features=768, bias=True)\n",
            "              (dropout): Dropout(p=0.1, inplace=False)\n",
            "            )\n",
            "            (output): BertSelfOutput(\n",
            "              (dense): Linear(in_features=768, out_features=768, bias=True)\n",
            "              (LayerNorm): LayerNorm((768,), eps=1e-12, elementwise_affine=True)\n",
            "              (dropout): Dropout(p=0.1, inplace=False)\n",
            "            )\n",
            "          )\n",
            "          (intermediate): BertIntermediate(\n",
            "            (dense): Linear(in_features=768, out_features=3072, bias=True)\n",
            "          )\n",
            "          (output): BertOutput(\n",
            "            (dense): Linear(in_features=3072, out_features=768, bias=True)\n",
            "            (LayerNorm): LayerNorm((768,), eps=1e-12, elementwise_affine=True)\n",
            "            (dropout): Dropout(p=0.1, inplace=False)\n",
            "          )\n",
            "        )\n",
            "        (6): BertLayer(\n",
            "          (attention): BertAttention(\n",
            "            (self): BertSelfAttention(\n",
            "              (query): Linear(in_features=768, out_features=768, bias=True)\n",
            "              (key): Linear(in_features=768, out_features=768, bias=True)\n",
            "              (value): Linear(in_features=768, out_features=768, bias=True)\n",
            "              (dropout): Dropout(p=0.1, inplace=False)\n",
            "            )\n",
            "            (output): BertSelfOutput(\n",
            "              (dense): Linear(in_features=768, out_features=768, bias=True)\n",
            "              (LayerNorm): LayerNorm((768,), eps=1e-12, elementwise_affine=True)\n",
            "              (dropout): Dropout(p=0.1, inplace=False)\n",
            "            )\n",
            "          )\n",
            "          (intermediate): BertIntermediate(\n",
            "            (dense): Linear(in_features=768, out_features=3072, bias=True)\n",
            "          )\n",
            "          (output): BertOutput(\n",
            "            (dense): Linear(in_features=3072, out_features=768, bias=True)\n",
            "            (LayerNorm): LayerNorm((768,), eps=1e-12, elementwise_affine=True)\n",
            "            (dropout): Dropout(p=0.1, inplace=False)\n",
            "          )\n",
            "        )\n",
            "        (7): BertLayer(\n",
            "          (attention): BertAttention(\n",
            "            (self): BertSelfAttention(\n",
            "              (query): Linear(in_features=768, out_features=768, bias=True)\n",
            "              (key): Linear(in_features=768, out_features=768, bias=True)\n",
            "              (value): Linear(in_features=768, out_features=768, bias=True)\n",
            "              (dropout): Dropout(p=0.1, inplace=False)\n",
            "            )\n",
            "            (output): BertSelfOutput(\n",
            "              (dense): Linear(in_features=768, out_features=768, bias=True)\n",
            "              (LayerNorm): LayerNorm((768,), eps=1e-12, elementwise_affine=True)\n",
            "              (dropout): Dropout(p=0.1, inplace=False)\n",
            "            )\n",
            "          )\n",
            "          (intermediate): BertIntermediate(\n",
            "            (dense): Linear(in_features=768, out_features=3072, bias=True)\n",
            "          )\n",
            "          (output): BertOutput(\n",
            "            (dense): Linear(in_features=3072, out_features=768, bias=True)\n",
            "            (LayerNorm): LayerNorm((768,), eps=1e-12, elementwise_affine=True)\n",
            "            (dropout): Dropout(p=0.1, inplace=False)\n",
            "          )\n",
            "        )\n",
            "        (8): BertLayer(\n",
            "          (attention): BertAttention(\n",
            "            (self): BertSelfAttention(\n",
            "              (query): Linear(in_features=768, out_features=768, bias=True)\n",
            "              (key): Linear(in_features=768, out_features=768, bias=True)\n",
            "              (value): Linear(in_features=768, out_features=768, bias=True)\n",
            "              (dropout): Dropout(p=0.1, inplace=False)\n",
            "            )\n",
            "            (output): BertSelfOutput(\n",
            "              (dense): Linear(in_features=768, out_features=768, bias=True)\n",
            "              (LayerNorm): LayerNorm((768,), eps=1e-12, elementwise_affine=True)\n",
            "              (dropout): Dropout(p=0.1, inplace=False)\n",
            "            )\n",
            "          )\n",
            "          (intermediate): BertIntermediate(\n",
            "            (dense): Linear(in_features=768, out_features=3072, bias=True)\n",
            "          )\n",
            "          (output): BertOutput(\n",
            "            (dense): Linear(in_features=3072, out_features=768, bias=True)\n",
            "            (LayerNorm): LayerNorm((768,), eps=1e-12, elementwise_affine=True)\n",
            "            (dropout): Dropout(p=0.1, inplace=False)\n",
            "          )\n",
            "        )\n",
            "        (9): BertLayer(\n",
            "          (attention): BertAttention(\n",
            "            (self): BertSelfAttention(\n",
            "              (query): Linear(in_features=768, out_features=768, bias=True)\n",
            "              (key): Linear(in_features=768, out_features=768, bias=True)\n",
            "              (value): Linear(in_features=768, out_features=768, bias=True)\n",
            "              (dropout): Dropout(p=0.1, inplace=False)\n",
            "            )\n",
            "            (output): BertSelfOutput(\n",
            "              (dense): Linear(in_features=768, out_features=768, bias=True)\n",
            "              (LayerNorm): LayerNorm((768,), eps=1e-12, elementwise_affine=True)\n",
            "              (dropout): Dropout(p=0.1, inplace=False)\n",
            "            )\n",
            "          )\n",
            "          (intermediate): BertIntermediate(\n",
            "            (dense): Linear(in_features=768, out_features=3072, bias=True)\n",
            "          )\n",
            "          (output): BertOutput(\n",
            "            (dense): Linear(in_features=3072, out_features=768, bias=True)\n",
            "            (LayerNorm): LayerNorm((768,), eps=1e-12, elementwise_affine=True)\n",
            "            (dropout): Dropout(p=0.1, inplace=False)\n",
            "          )\n",
            "        )\n",
            "        (10): BertLayer(\n",
            "          (attention): BertAttention(\n",
            "            (self): BertSelfAttention(\n",
            "              (query): Linear(in_features=768, out_features=768, bias=True)\n",
            "              (key): Linear(in_features=768, out_features=768, bias=True)\n",
            "              (value): Linear(in_features=768, out_features=768, bias=True)\n",
            "              (dropout): Dropout(p=0.1, inplace=False)\n",
            "            )\n",
            "            (output): BertSelfOutput(\n",
            "              (dense): Linear(in_features=768, out_features=768, bias=True)\n",
            "              (LayerNorm): LayerNorm((768,), eps=1e-12, elementwise_affine=True)\n",
            "              (dropout): Dropout(p=0.1, inplace=False)\n",
            "            )\n",
            "          )\n",
            "          (intermediate): BertIntermediate(\n",
            "            (dense): Linear(in_features=768, out_features=3072, bias=True)\n",
            "          )\n",
            "          (output): BertOutput(\n",
            "            (dense): Linear(in_features=3072, out_features=768, bias=True)\n",
            "            (LayerNorm): LayerNorm((768,), eps=1e-12, elementwise_affine=True)\n",
            "            (dropout): Dropout(p=0.1, inplace=False)\n",
            "          )\n",
            "        )\n",
            "        (11): BertLayer(\n",
            "          (attention): BertAttention(\n",
            "            (self): BertSelfAttention(\n",
            "              (query): Linear(in_features=768, out_features=768, bias=True)\n",
            "              (key): Linear(in_features=768, out_features=768, bias=True)\n",
            "              (value): Linear(in_features=768, out_features=768, bias=True)\n",
            "              (dropout): Dropout(p=0.1, inplace=False)\n",
            "            )\n",
            "            (output): BertSelfOutput(\n",
            "              (dense): Linear(in_features=768, out_features=768, bias=True)\n",
            "              (LayerNorm): LayerNorm((768,), eps=1e-12, elementwise_affine=True)\n",
            "              (dropout): Dropout(p=0.1, inplace=False)\n",
            "            )\n",
            "          )\n",
            "          (intermediate): BertIntermediate(\n",
            "            (dense): Linear(in_features=768, out_features=3072, bias=True)\n",
            "          )\n",
            "          (output): BertOutput(\n",
            "            (dense): Linear(in_features=3072, out_features=768, bias=True)\n",
            "            (LayerNorm): LayerNorm((768,), eps=1e-12, elementwise_affine=True)\n",
            "            (dropout): Dropout(p=0.1, inplace=False)\n",
            "          )\n",
            "        )\n",
            "      )\n",
            "    )\n",
            "    (pooler): BertPooler(\n",
            "      (dense): Linear(in_features=768, out_features=768, bias=True)\n",
            "      (activation): Tanh()\n",
            "    )\n",
            "  )\n",
            "  (dropout): Dropout(p=0.3, inplace=False)\n",
            "  (dropout_heads): Dropout(p=0.0, inplace=False)\n",
            "  (inform_projection): Linear(in_features=4, out_features=4, bias=True)\n",
            "  (ds_projection): Linear(in_features=4, out_features=4, bias=True)\n",
            "  (class_pricerange): Linear(in_features=776, out_features=4, bias=True)\n",
            "  (token_pricerange): Linear(in_features=768, out_features=2, bias=True)\n",
            "  (refer_pricerange): Linear(in_features=776, out_features=5, bias=True)\n",
            "  (class_this): Linear(in_features=776, out_features=4, bias=True)\n",
            "  (token_this): Linear(in_features=768, out_features=2, bias=True)\n",
            "  (refer_this): Linear(in_features=776, out_features=5, bias=True)\n",
            "  (class_area): Linear(in_features=776, out_features=4, bias=True)\n",
            "  (token_area): Linear(in_features=768, out_features=2, bias=True)\n",
            "  (refer_area): Linear(in_features=776, out_features=5, bias=True)\n",
            "  (class_food): Linear(in_features=776, out_features=4, bias=True)\n",
            "  (token_food): Linear(in_features=768, out_features=2, bias=True)\n",
            "  (refer_food): Linear(in_features=776, out_features=5, bias=True)\n",
            "  (action_prediction): Linear(in_features=776, out_features=46, bias=True)\n",
            "  (action_softmax): Softmax(dim=1)\n",
            ")\n",
            "2021-08-04 18:22:02.136 INFO in 'deeppavlov.utils.connector.bot'['bot'] at line 72: Bot initiated\n"
          ]
        }
      ],
      "metadata": {
        "id": "enlYC22cdfdA",
        "colab": {
          "base_uri": "https://localhost:8080/"
        },
        "outputId": "2cf40c46-42c5-4c16-9533-c25d5f176048"
      }
    },
    {
      "cell_type": "markdown",
      "source": [
        "See here for an example image of chatting with the bot in Telegram:\n",
        "\n",
        "&nbsp;\n",
        "![trippy_telegram.jpg](https://github.com/Muennighoff/DeepPavlov/blob/rulebased_gobot_trippy/examples/img/trippy_telegram.jpg?raw=1)\n",
        "&nbsp;\n"
      ],
      "metadata": {
        "id": "-1u1ezPiaUbr"
      }
    },
    {
      "cell_type": "markdown",
      "source": [
        "There's still a lot to improve, such as\n",
        "- Allow the user to share his location\n",
        "- Format the bot's outputs\n",
        "- Perhaps even connect with a second API such as AirTable for booking\n",
        "\n",
        "... Have fun exploring & feel free to submit a PR to further enhance this Notebook =)"
      ],
      "metadata": {
        "id": "JlVPqmW-aua1"
      }
    }
  ]
}