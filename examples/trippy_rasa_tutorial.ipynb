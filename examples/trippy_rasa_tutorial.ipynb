{
  "nbformat": 4,
  "nbformat_minor": 0,
  "metadata": {
    "colab": {
      "name": "Copy of TRIPPY_RASA_TINY",
      "provenance": [],
      "collapsed_sections": []
    },
    "kernelspec": {
      "display_name": "Python 3",
      "name": "python3"
    },
    "accelerator": "GPU"
  },
  "cells": [
    {
      "cell_type": "markdown",
      "metadata": {
        "id": "9quTzDCNMcl7"
      },
      "source": [
        "### You can also run the notebook in [COLAB](https://colab.research.google.com/github/deepmipt/DeepPavlov/blob/master/examples/trippy_rasa_tutorial.ipynb)."
      ]
    },
    {
      "cell_type": "markdown",
      "metadata": {
        "id": "mKHBh1lcCwzx"
      },
      "source": [
        "## Rasa 2.X with TripPy\n",
        "\n",
        "This is a tiny demo to show you how you can build a goal oriented bot in DeepPavlov leveraging the RASA format and the TripPy model in ~<10 lines of code!\n",
        "\n",
        "So without further ado, let's go!"
      ]
    },
    {
      "cell_type": "code",
      "metadata": {
        "colab": {
          "base_uri": "https://localhost:8080/",
          "height": 1000
        },
        "id": "NOHjwHHFSf23",
        "outputId": "6eebfd60-77f6-4a31-e64f-fc7fbf8d6e53"
      },
      "source": [
        "!git clone -b rulebased_gobot_trippy https://github.com/Muennighoff/DeepPavlov\n",
        "%cd DeepPavlov\n",
        "!pip install -r requirements.txt"
      ],
      "execution_count": null,
      "outputs": [
        {
          "output_type": "stream",
          "text": [
            "Cloning into 'DeepPavlov'...\n",
            "remote: Enumerating objects: 58548, done.\u001b[K\n",
            "remote: Counting objects: 100% (1491/1491), done.\u001b[K\n",
            "remote: Compressing objects: 100% (492/492), done.\u001b[K\n",
            "remote: Total 58548 (delta 1133), reused 1284 (delta 986), pack-reused 57057\u001b[K\n",
            "Receiving objects: 100% (58548/58548), 37.81 MiB | 32.11 MiB/s, done.\n",
            "Resolving deltas: 100% (44978/44978), done.\n",
            "/content/DeepPavlov\n",
            "Collecting aio-pika==6.4.1\n",
            "  Downloading aio_pika-6.4.1-py3-none-any.whl (40 kB)\n",
            "\u001b[K     |████████████████████████████████| 40 kB 27 kB/s \n",
            "\u001b[?25hCollecting Cython==0.29.14\n",
            "  Downloading Cython-0.29.14-cp37-cp37m-manylinux1_x86_64.whl (2.1 MB)\n",
            "\u001b[K     |████████████████████████████████| 2.1 MB 14.2 MB/s \n",
            "\u001b[?25hCollecting fastapi==0.47.1\n",
            "  Downloading fastapi-0.47.1-py3-none-any.whl (43 kB)\n",
            "\u001b[K     |████████████████████████████████| 43 kB 2.2 MB/s \n",
            "\u001b[?25hRequirement already satisfied: filelock==3.0.12 in /usr/local/lib/python3.7/dist-packages (from -r requirements.txt (line 4)) (3.0.12)\n",
            "Collecting h5py==2.10.0\n",
            "  Downloading h5py-2.10.0-cp37-cp37m-manylinux1_x86_64.whl (2.9 MB)\n",
            "\u001b[K     |████████████████████████████████| 2.9 MB 57.3 MB/s \n",
            "\u001b[?25hCollecting nltk==3.4.5\n",
            "  Downloading nltk-3.4.5.zip (1.5 MB)\n",
            "\u001b[K     |████████████████████████████████| 1.5 MB 54.9 MB/s \n",
            "\u001b[?25hCollecting numpy==1.18.0\n",
            "  Downloading numpy-1.18.0-cp37-cp37m-manylinux1_x86_64.whl (20.1 MB)\n",
            "\u001b[K     |████████████████████████████████| 20.1 MB 1.4 MB/s \n",
            "\u001b[?25hCollecting overrides==2.7.0\n",
            "  Downloading overrides-2.7.0.tar.gz (4.5 kB)\n",
            "Collecting pandas==0.25.3\n",
            "  Downloading pandas-0.25.3-cp37-cp37m-manylinux1_x86_64.whl (10.4 MB)\n",
            "\u001b[K     |████████████████████████████████| 10.4 MB 48.2 MB/s \n",
            "\u001b[?25hCollecting prometheus-client==0.7.1\n",
            "  Downloading prometheus_client-0.7.1.tar.gz (38 kB)\n",
            "Collecting pytz==2019.1\n",
            "  Downloading pytz-2019.1-py2.py3-none-any.whl (510 kB)\n",
            "\u001b[K     |████████████████████████████████| 510 kB 56.6 MB/s \n",
            "\u001b[?25hCollecting pydantic==1.3\n",
            "  Downloading pydantic-1.3-cp37-cp37m-manylinux2010_x86_64.whl (7.3 MB)\n",
            "\u001b[K     |████████████████████████████████| 7.3 MB 30.8 MB/s \n",
            "\u001b[?25hCollecting pymorphy2==0.8\n",
            "  Downloading pymorphy2-0.8-py2.py3-none-any.whl (46 kB)\n",
            "\u001b[K     |████████████████████████████████| 46 kB 3.5 MB/s \n",
            "\u001b[?25hCollecting pymorphy2-dicts-ru\n",
            "  Downloading pymorphy2_dicts_ru-2.4.417127.4579844-py2.py3-none-any.whl (8.2 MB)\n",
            "\u001b[K     |████████████████████████████████| 8.2 MB 24.1 MB/s \n",
            "\u001b[?25hCollecting pyopenssl==19.1.0\n",
            "  Downloading pyOpenSSL-19.1.0-py2.py3-none-any.whl (53 kB)\n",
            "\u001b[K     |████████████████████████████████| 53 kB 2.6 MB/s \n",
            "\u001b[?25hCollecting pytelegrambotapi==3.6.7\n",
            "  Downloading pyTelegramBotAPI-3.6.7.tar.gz (65 kB)\n",
            "\u001b[K     |████████████████████████████████| 65 kB 4.8 MB/s \n",
            "\u001b[?25hCollecting requests==2.22.0\n",
            "  Downloading requests-2.22.0-py2.py3-none-any.whl (57 kB)\n",
            "\u001b[K     |████████████████████████████████| 57 kB 7.0 MB/s \n",
            "\u001b[?25hCollecting ruamel.yaml==0.15.100\n",
            "  Downloading ruamel.yaml-0.15.100-cp37-cp37m-manylinux1_x86_64.whl (654 kB)\n",
            "\u001b[K     |████████████████████████████████| 654 kB 47.3 MB/s \n",
            "\u001b[?25hCollecting rusenttokenize==0.0.5\n",
            "  Downloading rusenttokenize-0.0.5-py3-none-any.whl (10 kB)\n",
            "Collecting scikit-learn==0.21.2\n",
            "  Downloading scikit_learn-0.21.2-cp37-cp37m-manylinux1_x86_64.whl (6.7 MB)\n",
            "\u001b[K     |████████████████████████████████| 6.7 MB 23.6 MB/s \n",
            "\u001b[?25hRequirement already satisfied: scipy==1.4.1 in /usr/local/lib/python3.7/dist-packages (from -r requirements.txt (line 21)) (1.4.1)\n",
            "Requirement already satisfied: tqdm==4.41.1 in /usr/local/lib/python3.7/dist-packages (from -r requirements.txt (line 22)) (4.41.1)\n",
            "Requirement already satisfied: click==7.1.2 in /usr/local/lib/python3.7/dist-packages (from -r requirements.txt (line 23)) (7.1.2)\n",
            "Collecting uvicorn==0.11.7\n",
            "  Downloading uvicorn-0.11.7-py3-none-any.whl (43 kB)\n",
            "\u001b[K     |████████████████████████████████| 43 kB 2.4 MB/s \n",
            "\u001b[?25hCollecting sacremoses==0.0.35\n",
            "  Downloading sacremoses-0.0.35.tar.gz (859 kB)\n",
            "\u001b[K     |████████████████████████████████| 859 kB 54.7 MB/s \n",
            "\u001b[?25hCollecting uvloop==0.14.0\n",
            "  Downloading uvloop-0.14.0-cp37-cp37m-manylinux2010_x86_64.whl (3.8 MB)\n",
            "\u001b[K     |████████████████████████████████| 3.8 MB 29.7 MB/s \n",
            "\u001b[?25hCollecting yarl\n",
            "  Downloading yarl-1.6.3-cp37-cp37m-manylinux2014_x86_64.whl (294 kB)\n",
            "\u001b[K     |████████████████████████████████| 294 kB 64.4 MB/s \n",
            "\u001b[?25hCollecting aiormq<4,>=3.2.0\n",
            "  Downloading aiormq-3.3.1-py3-none-any.whl (28 kB)\n",
            "Collecting starlette<=0.12.9,>=0.12.9\n",
            "  Downloading starlette-0.12.9.tar.gz (46 kB)\n",
            "\u001b[K     |████████████████████████████████| 46 kB 4.0 MB/s \n",
            "\u001b[?25hRequirement already satisfied: six in /usr/local/lib/python3.7/dist-packages (from h5py==2.10.0->-r requirements.txt (line 5)) (1.15.0)\n",
            "Requirement already satisfied: python-dateutil>=2.6.1 in /usr/local/lib/python3.7/dist-packages (from pandas==0.25.3->-r requirements.txt (line 9)) (2.8.1)\n",
            "Requirement already satisfied: docopt>=0.6 in /usr/local/lib/python3.7/dist-packages (from pymorphy2==0.8->-r requirements.txt (line 13)) (0.6.2)\n",
            "Collecting dawg-python>=0.7\n",
            "  Downloading DAWG_Python-0.7.2-py2.py3-none-any.whl (11 kB)\n",
            "Collecting pymorphy2-dicts<3.0,>=2.4\n",
            "  Downloading pymorphy2_dicts-2.4.393442.3710985-py2.py3-none-any.whl (7.1 MB)\n",
            "\u001b[K     |████████████████████████████████| 7.1 MB 18.7 MB/s \n",
            "\u001b[?25hCollecting cryptography>=2.8\n",
            "  Downloading cryptography-3.4.7-cp36-abi3-manylinux2014_x86_64.whl (3.2 MB)\n",
            "\u001b[K     |████████████████████████████████| 3.2 MB 37.0 MB/s \n",
            "\u001b[?25hCollecting idna<2.9,>=2.5\n",
            "  Downloading idna-2.8-py2.py3-none-any.whl (58 kB)\n",
            "\u001b[K     |████████████████████████████████| 58 kB 7.3 MB/s \n",
            "\u001b[?25hRequirement already satisfied: chardet<3.1.0,>=3.0.2 in /usr/local/lib/python3.7/dist-packages (from requests==2.22.0->-r requirements.txt (line 17)) (3.0.4)\n",
            "Requirement already satisfied: urllib3!=1.25.0,!=1.25.1,<1.26,>=1.21.1 in /usr/local/lib/python3.7/dist-packages (from requests==2.22.0->-r requirements.txt (line 17)) (1.24.3)\n",
            "Requirement already satisfied: certifi>=2017.4.17 in /usr/local/lib/python3.7/dist-packages (from requests==2.22.0->-r requirements.txt (line 17)) (2021.5.30)\n",
            "Requirement already satisfied: joblib>=0.11 in /usr/local/lib/python3.7/dist-packages (from scikit-learn==0.21.2->-r requirements.txt (line 20)) (1.0.1)\n",
            "Collecting websockets==8.*\n",
            "  Downloading websockets-8.1-cp37-cp37m-manylinux2010_x86_64.whl (79 kB)\n",
            "\u001b[K     |████████████████████████████████| 79 kB 9.7 MB/s \n",
            "\u001b[?25hCollecting h11<0.10,>=0.8\n",
            "  Downloading h11-0.9.0-py2.py3-none-any.whl (53 kB)\n",
            "\u001b[K     |████████████████████████████████| 53 kB 2.9 MB/s \n",
            "\u001b[?25hCollecting httptools==0.1.*\n",
            "  Downloading httptools-0.1.2-cp37-cp37m-manylinux1_x86_64.whl (219 kB)\n",
            "\u001b[K     |████████████████████████████████| 219 kB 66.8 MB/s \n",
            "\u001b[?25hCollecting pamqp==2.3.0\n",
            "  Downloading pamqp-2.3.0-py2.py3-none-any.whl (28 kB)\n",
            "Requirement already satisfied: cffi>=1.12 in /usr/local/lib/python3.7/dist-packages (from cryptography>=2.8->pyopenssl==19.1.0->-r requirements.txt (line 15)) (1.14.6)\n",
            "Requirement already satisfied: pycparser in /usr/local/lib/python3.7/dist-packages (from cffi>=1.12->cryptography>=2.8->pyopenssl==19.1.0->-r requirements.txt (line 15)) (2.20)\n",
            "Requirement already satisfied: typing-extensions>=3.7.4 in /usr/local/lib/python3.7/dist-packages (from yarl->aio-pika==6.4.1->-r requirements.txt (line 1)) (3.7.4.3)\n",
            "Collecting multidict>=4.0\n",
            "  Downloading multidict-5.1.0-cp37-cp37m-manylinux2014_x86_64.whl (142 kB)\n",
            "\u001b[K     |████████████████████████████████| 142 kB 64.8 MB/s \n",
            "\u001b[?25hBuilding wheels for collected packages: nltk, overrides, prometheus-client, pytelegrambotapi, sacremoses, starlette\n",
            "  Building wheel for nltk (setup.py) ... \u001b[?25l\u001b[?25hdone\n",
            "  Created wheel for nltk: filename=nltk-3.4.5-py3-none-any.whl size=1449921 sha256=1f3a87e91137464582ed8de4d8659dcbeada0591e251349b7638090f818e4169\n",
            "  Stored in directory: /root/.cache/pip/wheels/48/8b/7f/473521e0c731c6566d631b281f323842bbda9bd819eb9a3ead\n",
            "  Building wheel for overrides (setup.py) ... \u001b[?25l\u001b[?25hdone\n",
            "  Created wheel for overrides: filename=overrides-2.7.0-py3-none-any.whl size=5604 sha256=b94112d39c79de8d8b031881d2db4eaf5572ab76012d85e15b9d4da0631445c7\n",
            "  Stored in directory: /root/.cache/pip/wheels/c9/87/45/bfdacf6c3b8233b6e8d519edcbd1cf297ad5ff5f0bf84bb9c1\n",
            "  Building wheel for prometheus-client (setup.py) ... \u001b[?25l\u001b[?25hdone\n",
            "  Created wheel for prometheus-client: filename=prometheus_client-0.7.1-py3-none-any.whl size=41403 sha256=86fe4ce2f36bb2690f6121893db85d1aba8f0dcc4bf88f3eefb697db79b1c1b2\n",
            "  Stored in directory: /root/.cache/pip/wheels/30/0c/26/59ba285bf65dc79d195e9b25e2ddde4c61070422729b0cd914\n",
            "  Building wheel for pytelegrambotapi (setup.py) ... \u001b[?25l\u001b[?25hdone\n",
            "  Created wheel for pytelegrambotapi: filename=pyTelegramBotAPI-3.6.7-py3-none-any.whl size=47176 sha256=ada941f82344ead1cc54938b884a95e863564dc65b7f9f1aab8adc364bbfd33c\n",
            "  Stored in directory: /root/.cache/pip/wheels/7f/7c/54/8eddf2369ef1b9190e2ee6dc2b40df54b6c65529a38790fdd4\n",
            "  Building wheel for sacremoses (setup.py) ... \u001b[?25l\u001b[?25hdone\n",
            "  Created wheel for sacremoses: filename=sacremoses-0.0.35-py3-none-any.whl size=883990 sha256=038df4dae589f83ecc999590b16df3548e3dddcee5c434dc7089fbf91ee64fd3\n",
            "  Stored in directory: /root/.cache/pip/wheels/d1/ff/0e/e00ff1e22100702ac8b24e709551ae0fb29db9ffc843510a64\n",
            "  Building wheel for starlette (setup.py) ... \u001b[?25l\u001b[?25hdone\n",
            "  Created wheel for starlette: filename=starlette-0.12.9-py3-none-any.whl size=57252 sha256=dde82eea35e6d65fbfed9525f3f4d60b26b6ee69a0a823aa3839fd12bd855d77\n",
            "  Stored in directory: /root/.cache/pip/wheels/e8/78/be/f57ed5aed7cd222abdb24e3186b5c9f1074184fcc0a295102b\n",
            "Successfully built nltk overrides prometheus-client pytelegrambotapi sacremoses starlette\n",
            "Installing collected packages: multidict, idna, yarl, pamqp, numpy, websockets, uvloop, starlette, requests, pytz, pymorphy2-dicts, pydantic, httptools, h11, dawg-python, cryptography, aiormq, uvicorn, scikit-learn, sacremoses, rusenttokenize, ruamel.yaml, pytelegrambotapi, pyopenssl, pymorphy2-dicts-ru, pymorphy2, prometheus-client, pandas, overrides, nltk, h5py, fastapi, Cython, aio-pika\n",
            "  Attempting uninstall: idna\n",
            "    Found existing installation: idna 2.10\n",
            "    Uninstalling idna-2.10:\n",
            "      Successfully uninstalled idna-2.10\n",
            "  Attempting uninstall: numpy\n",
            "    Found existing installation: numpy 1.19.5\n",
            "    Uninstalling numpy-1.19.5:\n",
            "      Successfully uninstalled numpy-1.19.5\n",
            "  Attempting uninstall: requests\n",
            "    Found existing installation: requests 2.23.0\n",
            "    Uninstalling requests-2.23.0:\n",
            "      Successfully uninstalled requests-2.23.0\n",
            "  Attempting uninstall: pytz\n",
            "    Found existing installation: pytz 2018.9\n",
            "    Uninstalling pytz-2018.9:\n",
            "      Successfully uninstalled pytz-2018.9\n",
            "  Attempting uninstall: scikit-learn\n",
            "    Found existing installation: scikit-learn 0.22.2.post1\n",
            "    Uninstalling scikit-learn-0.22.2.post1:\n",
            "      Successfully uninstalled scikit-learn-0.22.2.post1\n",
            "  Attempting uninstall: prometheus-client\n",
            "    Found existing installation: prometheus-client 0.11.0\n",
            "    Uninstalling prometheus-client-0.11.0:\n",
            "      Successfully uninstalled prometheus-client-0.11.0\n",
            "  Attempting uninstall: pandas\n",
            "    Found existing installation: pandas 1.1.5\n",
            "    Uninstalling pandas-1.1.5:\n",
            "      Successfully uninstalled pandas-1.1.5\n",
            "  Attempting uninstall: nltk\n",
            "    Found existing installation: nltk 3.2.5\n",
            "    Uninstalling nltk-3.2.5:\n",
            "      Successfully uninstalled nltk-3.2.5\n",
            "  Attempting uninstall: h5py\n",
            "    Found existing installation: h5py 3.1.0\n",
            "    Uninstalling h5py-3.1.0:\n",
            "      Successfully uninstalled h5py-3.1.0\n",
            "  Attempting uninstall: Cython\n",
            "    Found existing installation: Cython 0.29.23\n",
            "    Uninstalling Cython-0.29.23:\n",
            "      Successfully uninstalled Cython-0.29.23\n",
            "\u001b[31mERROR: pip's dependency resolver does not currently take into account all the packages that are installed. This behaviour is the source of the following dependency conflicts.\n",
            "xarray 0.18.2 requires pandas>=1.0, but you have pandas 0.25.3 which is incompatible.\n",
            "tensorflow 2.5.0 requires h5py~=3.1.0, but you have h5py 2.10.0 which is incompatible.\n",
            "tensorflow 2.5.0 requires numpy~=1.19.2, but you have numpy 1.18.0 which is incompatible.\n",
            "kapre 0.3.5 requires numpy>=1.18.5, but you have numpy 1.18.0 which is incompatible.\n",
            "google-colab 1.0.0 requires pandas~=1.1.0; python_version >= \"3.0\", but you have pandas 0.25.3 which is incompatible.\n",
            "google-colab 1.0.0 requires requests~=2.23.0, but you have requests 2.22.0 which is incompatible.\n",
            "fbprophet 0.7.1 requires pandas>=1.0.4, but you have pandas 0.25.3 which is incompatible.\n",
            "datascience 0.10.6 requires folium==0.2.1, but you have folium 0.8.3 which is incompatible.\n",
            "albumentations 0.1.12 requires imgaug<0.2.7,>=0.2.5, but you have imgaug 0.2.9 which is incompatible.\u001b[0m\n",
            "Successfully installed Cython-0.29.14 aio-pika-6.4.1 aiormq-3.3.1 cryptography-3.4.7 dawg-python-0.7.2 fastapi-0.47.1 h11-0.9.0 h5py-2.10.0 httptools-0.1.2 idna-2.8 multidict-5.1.0 nltk-3.4.5 numpy-1.18.0 overrides-2.7.0 pamqp-2.3.0 pandas-0.25.3 prometheus-client-0.7.1 pydantic-1.3 pymorphy2-0.8 pymorphy2-dicts-2.4.393442.3710985 pymorphy2-dicts-ru-2.4.417127.4579844 pyopenssl-19.1.0 pytelegrambotapi-3.6.7 pytz-2019.1 requests-2.22.0 ruamel.yaml-0.15.100 rusenttokenize-0.0.5 sacremoses-0.0.35 scikit-learn-0.21.2 starlette-0.12.9 uvicorn-0.11.7 uvloop-0.14.0 websockets-8.1 yarl-1.6.3\n"
          ],
          "name": "stdout"
        },
        {
          "output_type": "display_data",
          "data": {
            "application/vnd.colab-display-data+json": {
              "pip_warning": {
                "packages": [
                  "numpy",
                  "pandas",
                  "pytz"
                ]
              }
            }
          },
          "metadata": {
            "tags": []
          }
        }
      ]
    },
    {
      "cell_type": "code",
      "metadata": {
        "id": "hm3VCqMNJAOD"
      },
      "source": [
        "STORIES_PATH=\"stories.yml\"\n",
        "NLU_PATH=\"nlu.yml\"\n",
        "DOMAIN_PATH=\"domain.yml\""
      ],
      "execution_count": null,
      "outputs": []
    },
    {
      "cell_type": "markdown",
      "metadata": {
        "id": "SNC-jU9pED8p"
      },
      "source": [
        "### `Stories.yml`"
      ]
    },
    {
      "cell_type": "code",
      "metadata": {
        "id": "edx8nWiSk5RV",
        "colab": {
          "base_uri": "https://localhost:8080/"
        },
        "outputId": "cb38ee9c-87d8-44df-ae58-288569a6db24"
      },
      "source": [
        "%%writefile {STORIES_PATH}\n",
        "\n",
        "stories:\n",
        "- story: bla bla\n",
        "  steps:\n",
        "  - intent: user_hey\n",
        "  - action: system_hey\n",
        "  - intent: user_howru\n",
        "  - action: system_fine\n",
        "  - intent: user_bye\n",
        "  - action: system_bye\n",
        "- story: heybye\n",
        "  steps:\n",
        "  - intent: user_hey\n",
        "  - action: system_hey\n",
        "  - intent: user_bye\n",
        "  - action: system_bye\n",
        "- story: howru\n",
        "  steps:\n",
        "  - intent: user_howru\n",
        "  - action: system_fine\n"
      ],
      "execution_count": null,
      "outputs": [
        {
          "output_type": "stream",
          "text": [
            "Writing stories.yml\n"
          ],
          "name": "stdout"
        }
      ]
    },
    {
      "cell_type": "code",
      "metadata": {
        "id": "KXQdDMrql5VE"
      },
      "source": [
        "!cp {STORIES_PATH} stories-trn.yml\n",
        "!cp {STORIES_PATH} stories-tst.yml \n",
        "!cp {STORIES_PATH} stories-val.yml"
      ],
      "execution_count": null,
      "outputs": []
    },
    {
      "cell_type": "markdown",
      "metadata": {
        "id": "KXVajIbEFKbC"
      },
      "source": [
        "### `NLU.yml`"
      ]
    },
    {
      "cell_type": "code",
      "metadata": {
        "id": "tpXxp5Tlk-cS",
        "colab": {
          "base_uri": "https://localhost:8080/"
        },
        "outputId": "11eba142-37fa-4044-d515-b1946814f4d8"
      },
      "source": [
        "%%writefile {NLU_PATH}\n",
        "version: \"2.0\"\n",
        "dp_version: \"2.0\"\n",
        "\n",
        "nlu:\n",
        "  # regex intent\n",
        "  - regex: user_hey\n",
        "    examples: |\n",
        "      - hey\n",
        "      - (hello|hi)\n",
        "\n",
        "  - intent: user_howru\n",
        "    examples: |\n",
        "      - how are you\n",
        "      - how u doin?\n",
        "  \n",
        "  # DeepPavlov IntentCatcher examples\n",
        "  - intent: user_bye\n",
        "    examples: | \n",
        "      - farewell\n",
        "    regex_examples: |\n",
        "      - (((good)|(bye-)){0,1}bye)|(see you (later){0,1})\n"
      ],
      "execution_count": null,
      "outputs": [
        {
          "output_type": "stream",
          "text": [
            "Writing nlu.yml\n"
          ],
          "name": "stdout"
        }
      ]
    },
    {
      "cell_type": "markdown",
      "metadata": {
        "id": "HhinLEavFNH9"
      },
      "source": [
        "###`Domain.yml`"
      ]
    },
    {
      "cell_type": "code",
      "metadata": {
        "id": "1k_L_-PVk-td",
        "colab": {
          "base_uri": "https://localhost:8080/"
        },
        "outputId": "f5d9bc44-58e4-428a-ceda-87fd5bcaa182"
      },
      "source": [
        "%%writefile {DOMAIN_PATH}\n",
        "actions:\n",
        "- system_fine\n",
        "- system_hey\n",
        "- system_bye\n",
        "\n",
        "intents:\n",
        "- user_hey\n",
        "- user_bye\n",
        "- user_howru\n",
        "\n",
        "responses:\n",
        "  system_fine:\n",
        "  - text: im fine\n",
        "  system_hey:\n",
        "  - text: hey you!\n",
        "  system_bye:\n",
        "  - text: bye!"
      ],
      "execution_count": null,
      "outputs": [
        {
          "output_type": "stream",
          "text": [
            "Writing domain.yml\n"
          ],
          "name": "stdout"
        }
      ]
    },
    {
      "cell_type": "code",
      "metadata": {
        "colab": {
          "base_uri": "https://localhost:8080/"
        },
        "id": "t8NleRtjSap8",
        "outputId": "cf7e0e31-58d9-4b57-b2f1-bbcbc96eda9d"
      },
      "source": [
        "%%writefile deeppavlov/configs/go_bot/trippy_md_yaml_minimal.json\n",
        "{\n",
        "    \"dataset_reader\": {\n",
        "      \"class_name\": \"md_yaml_dialogs_reader\",\n",
        "      \"data_path\": \"{DATA_PATH}\",\n",
        "      \"fmt\": \"yml\"\n",
        "    },\n",
        "    \"dataset_iterator\": {\n",
        "      \"class_name\": \"md_yaml_dialogs_iterator\"\n",
        "    },\n",
        "    \"chainer\": {\n",
        "      \"in\": [\"x\"],\n",
        "      \"in_y\": [\"y\"],\n",
        "      \"out\": [\"y_predicted\"],\n",
        "      \"pipe\": [\n",
        "        {\n",
        "            \"class_name\": \"trippy\",\n",
        "            \"in\": [\"x\"],\n",
        "            \"in_y\": [\"y\"],\n",
        "            \"out\": [\"y_predicted\"],\n",
        "            \"load_path\": \"{MODEL_PATH}/model\",\n",
        "            \"save_path\": \"{MODEL_PATH}/model\",\n",
        "            \"pretrained_bert\": \"bert-base-uncased\",\n",
        "            \"max_seq_length\": 180,\n",
        "            \"debug\": false,\n",
        "            \"database\": null,\n",
        "            \"nlg_manager\": {\n",
        "                \"class_name\": \"gobot_json_nlg_manager\",\n",
        "                \"data_path\": \"{DATA_PATH}\",\n",
        "                \"dataset_reader_class\": \"md_yaml_dialogs_reader\",\n",
        "                \"actions2slots_path\": \"{DATA_PATH}/dstc2-actions2slots.json\",\n",
        "                \"api_call_action\": null\n",
        "            },\n",
        "            \"api_call_action\": null,\n",
        "            \"optimizer_parameters\": {\"lr\": 1e-5, \"eps\": 1e-6}\n",
        "        }\n",
        "      ]\n",
        "    },\n",
        "    \"train\": {\n",
        "        \"batch_size\": 32,\n",
        "        \"max_batches\": 600,\n",
        "    \n",
        "        \"metrics\": [\"per_item_dialog_accuracy\"],\n",
        "        \"validation_patience\": 10,\n",
        "        \"val_every_n_batches\": 15,\n",
        "        \"val_every_n_epochs\": -1,\n",
        "    \n",
        "        \"log_every_n_batches\": 15,\n",
        "        \"log_on_k_batches\": 10,\n",
        "    \n",
        "        \"validate_first\": true,\n",
        "    \n",
        "        \"show_examples\": false,\n",
        "        \"evaluation_targets\": [\n",
        "          \"valid\",\n",
        "          \"test\"\n",
        "        ]\n",
        "      },\n",
        "    \"metadata\": {\n",
        "      \"variables\": {\n",
        "        \"ROOT_PATH\": \"~/.deeppavlov\",\n",
        "        \"CONFIGS_PATH\": \"{DEEPPAVLOV_PATH}/configs\",\n",
        "        \"DOWNLOADS_PATH\": \"{ROOT_PATH}/downloads\",\n",
        "        \"DATA_PATH\": \".\",\n",
        "        \"MODELS_PATH\": \"{ROOT_PATH}/models\",\n",
        "        \"MODEL_PATH\": \".\"\n",
        "      }\n",
        "    }\n",
        "  }\n",
        "  "
      ],
      "execution_count": null,
      "outputs": [
        {
          "output_type": "stream",
          "text": [
            "Overwriting deeppavlov/configs/go_bot/trippy_md_yaml_minimal.json\n"
          ],
          "name": "stdout"
        }
      ]
    },
    {
      "cell_type": "code",
      "metadata": {
        "colab": {
          "base_uri": "https://localhost:8080/"
        },
        "id": "U6_XCLkoVHZk",
        "outputId": "0df75327-cfde-4835-adf4-7915b28f928c"
      },
      "source": [
        "!python -m deeppavlov install deeppavlov/configs/go_bot/trippy_md_yaml_minimal.json"
      ],
      "execution_count": null,
      "outputs": [
        {
          "output_type": "stream",
          "text": [
            "Collecting transformers==2.9.1\n",
            "  Downloading transformers-2.9.1-py3-none-any.whl (641 kB)\n",
            "\u001b[?25l\r\u001b[K     |▌                               | 10 kB 30.1 MB/s eta 0:00:01\r\u001b[K     |█                               | 20 kB 33.1 MB/s eta 0:00:01\r\u001b[K     |█▌                              | 30 kB 19.7 MB/s eta 0:00:01\r\u001b[K     |██                              | 40 kB 16.2 MB/s eta 0:00:01\r\u001b[K     |██▌                             | 51 kB 8.6 MB/s eta 0:00:01\r\u001b[K     |███                             | 61 kB 8.5 MB/s eta 0:00:01\r\u001b[K     |███▋                            | 71 kB 8.7 MB/s eta 0:00:01\r\u001b[K     |████                            | 81 kB 9.6 MB/s eta 0:00:01\r\u001b[K     |████▋                           | 92 kB 10.0 MB/s eta 0:00:01\r\u001b[K     |█████                           | 102 kB 8.2 MB/s eta 0:00:01\r\u001b[K     |█████▋                          | 112 kB 8.2 MB/s eta 0:00:01\r\u001b[K     |██████▏                         | 122 kB 8.2 MB/s eta 0:00:01\r\u001b[K     |██████▋                         | 133 kB 8.2 MB/s eta 0:00:01\r\u001b[K     |███████▏                        | 143 kB 8.2 MB/s eta 0:00:01\r\u001b[K     |███████▋                        | 153 kB 8.2 MB/s eta 0:00:01\r\u001b[K     |████████▏                       | 163 kB 8.2 MB/s eta 0:00:01\r\u001b[K     |████████▊                       | 174 kB 8.2 MB/s eta 0:00:01\r\u001b[K     |█████████▏                      | 184 kB 8.2 MB/s eta 0:00:01\r\u001b[K     |█████████▊                      | 194 kB 8.2 MB/s eta 0:00:01\r\u001b[K     |██████████▏                     | 204 kB 8.2 MB/s eta 0:00:01\r\u001b[K     |██████████▊                     | 215 kB 8.2 MB/s eta 0:00:01\r\u001b[K     |███████████▎                    | 225 kB 8.2 MB/s eta 0:00:01\r\u001b[K     |███████████▊                    | 235 kB 8.2 MB/s eta 0:00:01\r\u001b[K     |████████████▎                   | 245 kB 8.2 MB/s eta 0:00:01\r\u001b[K     |████████████▊                   | 256 kB 8.2 MB/s eta 0:00:01\r\u001b[K     |█████████████▎                  | 266 kB 8.2 MB/s eta 0:00:01\r\u001b[K     |█████████████▉                  | 276 kB 8.2 MB/s eta 0:00:01\r\u001b[K     |██████████████▎                 | 286 kB 8.2 MB/s eta 0:00:01\r\u001b[K     |██████████████▉                 | 296 kB 8.2 MB/s eta 0:00:01\r\u001b[K     |███████████████▎                | 307 kB 8.2 MB/s eta 0:00:01\r\u001b[K     |███████████████▉                | 317 kB 8.2 MB/s eta 0:00:01\r\u001b[K     |████████████████▍               | 327 kB 8.2 MB/s eta 0:00:01\r\u001b[K     |████████████████▉               | 337 kB 8.2 MB/s eta 0:00:01\r\u001b[K     |█████████████████▍              | 348 kB 8.2 MB/s eta 0:00:01\r\u001b[K     |█████████████████▉              | 358 kB 8.2 MB/s eta 0:00:01\r\u001b[K     |██████████████████▍             | 368 kB 8.2 MB/s eta 0:00:01\r\u001b[K     |███████████████████             | 378 kB 8.2 MB/s eta 0:00:01\r\u001b[K     |███████████████████▍            | 389 kB 8.2 MB/s eta 0:00:01\r\u001b[K     |████████████████████            | 399 kB 8.2 MB/s eta 0:00:01\r\u001b[K     |████████████████████▍           | 409 kB 8.2 MB/s eta 0:00:01\r\u001b[K     |█████████████████████           | 419 kB 8.2 MB/s eta 0:00:01\r\u001b[K     |█████████████████████▍          | 430 kB 8.2 MB/s eta 0:00:01\r\u001b[K     |██████████████████████          | 440 kB 8.2 MB/s eta 0:00:01\r\u001b[K     |██████████████████████▌         | 450 kB 8.2 MB/s eta 0:00:01\r\u001b[K     |███████████████████████         | 460 kB 8.2 MB/s eta 0:00:01\r\u001b[K     |███████████████████████▌        | 471 kB 8.2 MB/s eta 0:00:01\r\u001b[K     |████████████████████████        | 481 kB 8.2 MB/s eta 0:00:01\r\u001b[K     |████████████████████████▌       | 491 kB 8.2 MB/s eta 0:00:01\r\u001b[K     |█████████████████████████       | 501 kB 8.2 MB/s eta 0:00:01\r\u001b[K     |█████████████████████████▌      | 512 kB 8.2 MB/s eta 0:00:01\r\u001b[K     |██████████████████████████      | 522 kB 8.2 MB/s eta 0:00:01\r\u001b[K     |██████████████████████████▌     | 532 kB 8.2 MB/s eta 0:00:01\r\u001b[K     |███████████████████████████     | 542 kB 8.2 MB/s eta 0:00:01\r\u001b[K     |███████████████████████████▋    | 552 kB 8.2 MB/s eta 0:00:01\r\u001b[K     |████████████████████████████    | 563 kB 8.2 MB/s eta 0:00:01\r\u001b[K     |████████████████████████████▋   | 573 kB 8.2 MB/s eta 0:00:01\r\u001b[K     |█████████████████████████████   | 583 kB 8.2 MB/s eta 0:00:01\r\u001b[K     |█████████████████████████████▋  | 593 kB 8.2 MB/s eta 0:00:01\r\u001b[K     |██████████████████████████████▏ | 604 kB 8.2 MB/s eta 0:00:01\r\u001b[K     |██████████████████████████████▋ | 614 kB 8.2 MB/s eta 0:00:01\r\u001b[K     |███████████████████████████████▏| 624 kB 8.2 MB/s eta 0:00:01\r\u001b[K     |███████████████████████████████▋| 634 kB 8.2 MB/s eta 0:00:01\r\u001b[K     |████████████████████████████████| 641 kB 8.2 MB/s \n",
            "\u001b[?25hRequirement already satisfied: requests in /usr/local/lib/python3.7/dist-packages (from transformers==2.9.1) (2.22.0)\n",
            "Requirement already satisfied: filelock in /usr/local/lib/python3.7/dist-packages (from transformers==2.9.1) (3.0.12)\n",
            "Collecting tokenizers==0.7.0\n",
            "  Downloading tokenizers-0.7.0-cp37-cp37m-manylinux1_x86_64.whl (5.6 MB)\n",
            "\u001b[K     |████████████████████████████████| 5.6 MB 10.7 MB/s \n",
            "\u001b[?25hRequirement already satisfied: tqdm>=4.27 in /usr/local/lib/python3.7/dist-packages (from transformers==2.9.1) (4.41.1)\n",
            "Requirement already satisfied: sacremoses in /usr/local/lib/python3.7/dist-packages (from transformers==2.9.1) (0.0.35)\n",
            "Requirement already satisfied: regex!=2019.12.17 in /usr/local/lib/python3.7/dist-packages (from transformers==2.9.1) (2019.12.20)\n",
            "Requirement already satisfied: numpy in /usr/local/lib/python3.7/dist-packages (from transformers==2.9.1) (1.18.0)\n",
            "Collecting sentencepiece\n",
            "  Downloading sentencepiece-0.1.96-cp37-cp37m-manylinux_2_17_x86_64.manylinux2014_x86_64.whl (1.2 MB)\n",
            "\u001b[K     |████████████████████████████████| 1.2 MB 56.2 MB/s \n",
            "\u001b[?25hRequirement already satisfied: chardet<3.1.0,>=3.0.2 in /usr/local/lib/python3.7/dist-packages (from requests->transformers==2.9.1) (3.0.4)\n",
            "Requirement already satisfied: idna<2.9,>=2.5 in /usr/local/lib/python3.7/dist-packages (from requests->transformers==2.9.1) (2.8)\n",
            "Requirement already satisfied: certifi>=2017.4.17 in /usr/local/lib/python3.7/dist-packages (from requests->transformers==2.9.1) (2021.5.30)\n",
            "Requirement already satisfied: urllib3!=1.25.0,!=1.25.1,<1.26,>=1.21.1 in /usr/local/lib/python3.7/dist-packages (from requests->transformers==2.9.1) (1.24.3)\n",
            "Requirement already satisfied: joblib in /usr/local/lib/python3.7/dist-packages (from sacremoses->transformers==2.9.1) (1.0.1)\n",
            "Requirement already satisfied: click in /usr/local/lib/python3.7/dist-packages (from sacremoses->transformers==2.9.1) (7.1.2)\n",
            "Requirement already satisfied: six in /usr/local/lib/python3.7/dist-packages (from sacremoses->transformers==2.9.1) (1.15.0)\n",
            "Installing collected packages: tokenizers, sentencepiece, transformers\n",
            "Successfully installed sentencepiece-0.1.96 tokenizers-0.7.0 transformers-2.9.1\n",
            "Requirement already satisfied: torch==1.9.0 in /usr/local/lib/python3.7/dist-packages (1.9.0+cu102)\n",
            "Requirement already satisfied: typing-extensions in /usr/local/lib/python3.7/dist-packages (from torch==1.9.0) (3.7.4.3)\n"
          ],
          "name": "stdout"
        }
      ]
    },
    {
      "cell_type": "code",
      "metadata": {
        "id": "25d1YaLzSami"
      },
      "source": [
        "from deeppavlov import configs\n",
        "from deeppavlov.core.common.file import read_json\n",
        "\n",
        "gobot_config = read_json(configs.go_bot.trippy_md_yaml_minimal)"
      ],
      "execution_count": null,
      "outputs": []
    },
    {
      "cell_type": "code",
      "metadata": {
        "id": "2_-oecu8Sajn"
      },
      "source": [
        "from deeppavlov import train_model\n",
        "\n",
        "train_model(gobot_config, download=True)"
      ],
      "execution_count": null,
      "outputs": []
    },
    {
      "cell_type": "code",
      "metadata": {
        "id": "ARGukrcQSahZ"
      },
      "source": [
        "from deeppavlov import build_model\n",
        "bot = build_model(gobot_config)"
      ],
      "execution_count": null,
      "outputs": []
    },
    {
      "cell_type": "code",
      "metadata": {
        "colab": {
          "base_uri": "https://localhost:8080/"
        },
        "id": "7h3R_oB3Saek",
        "outputId": "9e389b6d-e71f-4d7c-bf91-b65b137ca61a"
      },
      "source": [
        "bot.reset()\n",
        "bot([\"hello\"])"
      ],
      "execution_count": null,
      "outputs": [
        {
          "output_type": "execute_result",
          "data": {
            "text/plain": [
              "[['hey you!']]"
            ]
          },
          "metadata": {
            "tags": []
          },
          "execution_count": 15
        }
      ]
    },
    {
      "cell_type": "code",
      "metadata": {
        "colab": {
          "base_uri": "https://localhost:8080/"
        },
        "id": "eFe3ZWbGSabt",
        "outputId": "115cd9f7-96cc-4236-d415-949c7e82c20c"
      },
      "source": [
        "bot([\"how r u?\"])"
      ],
      "execution_count": null,
      "outputs": [
        {
          "output_type": "execute_result",
          "data": {
            "text/plain": [
              "[['im fine']]"
            ]
          },
          "metadata": {
            "tags": []
          },
          "execution_count": 16
        }
      ]
    },
    {
      "cell_type": "code",
      "metadata": {
        "colab": {
          "base_uri": "https://localhost:8080/"
        },
        "id": "c7Jsh8HtSaY6",
        "outputId": "c3ede16c-d621-4ef3-fb28-9864035d7f1a"
      },
      "source": [
        "bot([\"ok goodbye\"])"
      ],
      "execution_count": null,
      "outputs": [
        {
          "output_type": "execute_result",
          "data": {
            "text/plain": [
              "[['bye!']]"
            ]
          },
          "metadata": {
            "tags": []
          },
          "execution_count": 17
        }
      ]
    }
  ]
}